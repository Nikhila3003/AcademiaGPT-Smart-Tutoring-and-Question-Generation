{
 "cells": [
  {
   "cell_type": "code",
   "execution_count": 2,
   "id": "3c27c50b-c68b-4681-99f1-6aa80383df48",
   "metadata": {},
   "outputs": [],
   "source": [
    "import textwrap\n",
    "from lyon_common import create_chain, report_on_message\n",
    "from question_generator_model_Copy1 import SingleSelection, Code, AnyQuestion\n",
    "from langchain.output_parsers import PydanticOutputParser"
   ]
  },
  {
   "cell_type": "markdown",
   "id": "a9c49c4a-baa6-4494-9bce-ef8b0a0cbcc4",
   "metadata": {},
   "source": [
    "**NOTE** I have updated `lyon_common.py` so that the `create_chain` function accepts a few more arguments:\n",
    "\n",
    "- `model_name` now defaults to the GPT 3.5 turbo model from 2023-11-06 \n",
    "- `model_kwargs`: this is a dictionary with OpenAI specific parameters we can set. The default value is now to instruct OpenAI to use the [new `json_object` response format ](https://platform.openai.com/docs/guides/text-generation/json-mode), which modifies the available tokens so that at each step only valid JSON can be produced.\n",
    "- `verbose` is a new keyword argument that is set to `False` by default.\n",
    "\n",
    "This notebook shows how we can use these updates to generate valid Pydantic ready JSON"
   ]
  },
  {
   "cell_type": "code",
   "execution_count": 5,
   "id": "7dbfae4d-e836-47ef-8e07-e9048abae14c",
   "metadata": {},
   "outputs": [],
   "source": [
    "def create_system_prompt(pydantic_object):\n",
    "    common_system_prompt = textwrap.dedent(\"\"\"\n",
    "    You are a smart, helpful teaching assistant chatbot named Callisto.\n",
    "\n",
    "    You are an expert Python programmer and have used all the most popular\n",
    "    libraries for data analysis, machine learning, and artificial intelligence.\n",
    "\n",
    "    You assist professors that teach courses about Python, data science, and machine learning\n",
    "    to graduate students.\n",
    "\n",
    "    Your task is to help professors produce practice questions to help students solidify \n",
    "    their understanding of specific topics\n",
    "\n",
    "    In your conversations with a professor you will be given a topic (string) and an\n",
    "    expected difficulty level (integer)\n",
    "    \n",
    "    The difficulty will be a number between 1 and 3, with 1 corresponding to a request \n",
    "    for an easy question, and 3 for the most difficult question.\n",
    "    \n",
    "    If the professor asks you for another question and does not specify either a new topic \n",
    "    or a new difficulty, you must use the previous topic or difficulty.\n",
    "\n",
    "    You are encouraged to use any tools available to look up relevant information, only\n",
    "    if necessary.\n",
    "\n",
    "    Your responses must always exactly match the specified JSON format with no extra words or content.\n",
    "\n",
    "    You must always produce exactly one JSON object.\n",
    "    \n",
    "    {format_instructions}\n",
    "    \"\"\")\n",
    "\n",
    "    parser = PydanticOutputParser(pydantic_object=pydantic_object)\n",
    "    return common_system_prompt.format(format_instructions=parser.get_format_instructions())\n",
    "    "
   ]
  },
  {
   "cell_type": "code",
   "execution_count": 5,
   "id": "48fc0942-4adf-40ce-9bb3-d50dfc57c83d",
   "metadata": {},
   "outputs": [],
   "source": [
    "def generate_and_parse_question(pydantic_model, query):\n",
    "    rag_chain = create_chain(create_system_prompt(pydantic_model), temperature=0.1, verbose=True, model_name=\"gpt-4-1106-preview\")\n",
    "    response = rag_chain(query)\n",
    "    report_on_message(response)  # print a summary of what was produced\n",
    "    parser = PydanticOutputParser(pydantic_object=pydantic_model)\n",
    "    return parser.parse(response[\"output\"])"
   ]
  },
  {
   "cell_type": "code",
   "execution_count": 4,
   "id": "ca5a5e4a-517b-4927-9521-239d09141eac",
   "metadata": {},
   "outputs": [
    {
     "ename": "NameError",
     "evalue": "name 'generate_and_parse_question' is not defined",
     "output_type": "error",
     "traceback": [
      "\u001b[0;31m---------------------------------------------------------------------------\u001b[0m",
      "\u001b[0;31mNameError\u001b[0m                                 Traceback (most recent call last)",
      "Cell \u001b[0;32mIn[4], line 1\u001b[0m\n\u001b[0;32m----> 1\u001b[0m \u001b[43mgenerate_and_parse_question\u001b[49m(Code, \u001b[38;5;124m\"\u001b[39m\u001b[38;5;124mtopic: pandas time series rolling moments\u001b[39m\u001b[38;5;130;01m\\n\u001b[39;00m\u001b[38;5;124mdifficulty: 2\u001b[39m\u001b[38;5;124m\"\u001b[39m)\n",
      "\u001b[0;31mNameError\u001b[0m: name 'generate_and_parse_question' is not defined"
     ]
    }
   ],
   "source": [
    "generate_and_parse_question(Code, \"topic: pandas time series rolling moments\\ndifficulty: 2\")"
   ]
  },
  {
   "cell_type": "code",
   "execution_count": null,
   "id": "5081d0cb-6d44-4817-ad41-80b4902e5cdd",
   "metadata": {},
   "outputs": [],
   "source": []
  }
 ],
 "metadata": {
  "kernelspec": {
   "display_name": "Python (jupyteach)",
   "language": "python",
   "name": "jupyteach"
  },
  "language_info": {
   "codemirror_mode": {
    "name": "ipython",
    "version": 3
   },
   "file_extension": ".py",
   "mimetype": "text/x-python",
   "name": "python",
   "nbconvert_exporter": "python",
   "pygments_lexer": "ipython3",
   "version": "3.11.5"
  }
 },
 "nbformat": 4,
 "nbformat_minor": 5
}
