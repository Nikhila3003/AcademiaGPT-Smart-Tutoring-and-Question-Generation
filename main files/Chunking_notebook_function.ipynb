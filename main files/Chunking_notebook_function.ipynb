{
 "cells": [
  {
   "cell_type": "code",
   "execution_count": 1,
   "id": "310ff012-2caf-4c03-8eaf-3b1ebd3bc08b",
   "metadata": {},
   "outputs": [],
   "source": [
    "def chunking_notebook(input):\n",
    "    input_file= open(input,\"r\")\n",
    "    markdown_content= input_file.read()\n",
    "    from langchain.text_splitter import RecursiveCharacterTextSplitter\n",
    "    splitter = RecursiveCharacterTextSplitter(chunk_size=1000)\n",
    "    chunks = splitter.split_text(markdown_content)\n",
    "    return (chunks)"
   ]
  }
 ],
 "metadata": {
  "kernelspec": {
   "display_name": "Python (jupyteach)",
   "language": "python",
   "name": "jupyteach"
  },
  "language_info": {
   "codemirror_mode": {
    "name": "ipython",
    "version": 3
   },
   "file_extension": ".py",
   "mimetype": "text/x-python",
   "name": "python",
   "nbconvert_exporter": "python",
   "pygments_lexer": "ipython3",
   "version": "3.11.5"
  }
 },
 "nbformat": 4,
 "nbformat_minor": 5
}
