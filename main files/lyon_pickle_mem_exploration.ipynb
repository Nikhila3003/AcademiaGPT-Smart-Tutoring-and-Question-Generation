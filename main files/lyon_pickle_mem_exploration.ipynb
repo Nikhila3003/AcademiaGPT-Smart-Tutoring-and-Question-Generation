{
 "cells": [
  {
   "cell_type": "code",
   "execution_count": 1,
   "id": "c3f09f2d-cc8e-4369-8098-0128c9fad57d",
   "metadata": {},
   "outputs": [],
   "source": [
    "import dotenv\n",
    "dotenv.load_dotenv(\"/home/jupyteach-msda/jupyteach-ai/.env\")\n",
    "from sqlalchemy.orm import Session\n",
    "\n",
    "from main import (\n",
    "    create_chain, \n",
    "    logger, \n",
    "    pickle_dir, \n",
    "    save_chat_memory, \n",
    "    maybe_load_chat_memory,\n",
    "    FINAL_SYSTEM_PROMPT,\n",
    "    get_vectorstore\n",
    ")"
   ]
  },
  {
   "cell_type": "code",
   "execution_count": 2,
   "id": "d252e808-aec8-4753-a8d8-e5d35601d349",
   "metadata": {},
   "outputs": [],
   "source": [
    "chat = create_chain(\n",
    "    FINAL_SYSTEM_PROMPT.format(user_name=\"Spencer Lyon\"),\n",
    "    model_kwargs=dict(),\n",
    "    model_name=\"gpt-4-1106-preview\",\n",
    "    # model_name=\"gpt-3.5-turbo-1106\",\n",
    "    course_slug=\"msda-test-course\",\n",
    ")"
   ]
  },
  {
   "cell_type": "code",
   "execution_count": 3,
   "id": "bd921b7f-b024-49b9-a105-e6fae13f8dfa",
   "metadata": {},
   "outputs": [],
   "source": [
    "!rm -rf pickles/testing.pickle"
   ]
  },
  {
   "cell_type": "code",
   "execution_count": 24,
   "id": "95e2420e-b067-4b77-a8ae-0a2c0b588d6a",
   "metadata": {},
   "outputs": [
    {
     "name": "stdout",
     "output_type": "stream",
     "text": [
      "\u001b[2m2023-11-28 10:15:38\u001b[0m [\u001b[32m\u001b[1minfo     \u001b[0m] \u001b[1mloaded 8 messages             \u001b[0m \u001b[36mchat_id\u001b[0m=\u001b[35m13\u001b[0m\n"
     ]
    },
    {
     "data": {
      "text/plain": [
       "[HumanMessage(content='Hello'),\n",
       " AIMessage(content='Hello Yassin! How can I assist you with your studies today?'),\n",
       " HumanMessage(content='What Python methods can be used in Data Cleaning'),\n",
       " AIMessage(content='Data cleaning is an important step in data analysis where you make sure your data is correct and usable. In Python, there are several methods and libraries that can help you clean data. Here are some common ones:\\n\\n1. **Pandas Library**: This is like a super-powered Excel inside Python that lets you play with tables (called DataFrames).\\n\\n   - `dropna()`: Imagine you have a toy box but some toys are broken. This method helps you take out the broken ones (missing data).\\n   - `fillna()`: Now, instead of removing the broken toys, you fix them with tape (fill missing data with a value).\\n   - `drop_duplicates()`: If you have the same toy twice, you give one to your friend (remove duplicate rows).\\n   - `replace()`: Let\\'s say you have a toy labeled \"fluffy\" but it\\'s actually a car. This method relabels it correctly (replace values).\\n   - `astype()`: This is like sorting your toys by type—stuffed animals, cars, puzzles (change data type of a column).\\n\\n2. **NumPy Library**: It\\'s like a toolset that helps you do math and play with numbers in Python.\\n\\n   - `isnan()`: Finds the toys that are not labeled (detect missing values).\\n   - `where()`: It\\'s like playing hide and seek with your toys, telling you the location of the ones you\\'re looking for (conditional operation).\\n\\n3. **Regular Expressions (re module)**: This is like a secret code to find and organize your toys by their names or shapes.\\n\\n   - `sub()`: If you wrote the wrong name on your toy, this can correct it (replace patterns in strings).\\n\\n4. **String Methods**: These are like little helpers that can clean up the names of your toys.\\n\\n   - `strip()`: If your toy has a name tag with extra space, this trims it (remove whitespace from start and end).\\n   - `lower()`, `upper()`: If you want all your toy names in big letters or small letters, these methods change that (change case of strings).\\n\\n5. **Custom Functions**: Sometimes you need a special rule to clean your toys, so you make your own method.\\n\\n   - `apply()`: This is like teaching your friend how to sort the toys the way you like (apply a function to a column).\\n\\nRemember, before you start cleaning your data, always make a copy of your toys (data) so you don\\'t lose anything!\\n\\nHere\\'s a simple example using pandas:\\n\\n```python\\nimport pandas as pd\\n\\n# Let\\'s pretend this is our toy box with some data\\ndata = {\\n    \\'Toy Name\\': [\\'Teddy Bear \\', \\'Racecar\\', \\'Doll\\', \\'Racecar\\'],\\n    \\'Condition\\': [\\'New\\', \\'Used\\', None, \\'Used\\'],\\n    \\'Price\\': [10.99, 8.99, 12.99, 8.99]\\n}\\n\\n# We put our toy box into a DataFrame\\ndf = pd.DataFrame(data)\\n\\n# Clean up the toy names by removing extra spaces\\ndf[\\'Toy Name\\'] = df[\\'Toy Name\\'].str.strip()\\n\\n# Fix the missing condition by labeling it \\'Unknown\\'\\ndf[\\'Condition\\'] = df[\\'Condition\\'].fillna(\\'Unknown\\')\\n\\n# Remove duplicate toys\\ndf = df.drop_duplicates()\\n\\nprint(df)\\n```\\n\\n- **BULLET POINTS**:\\n  - Use `pandas` for handling tabular data.\\n  - `dropna()` to remove rows with missing values.\\n  - `fillna()` to fill missing values with a specific value.\\n  - `drop_duplicates()` to remove duplicate rows.\\n  - `replace()` to replace values in the DataFrame.\\n  - `astype()` to change the data type of a column.\\n  - Use `numpy` for numerical operations.\\n  - Use `re` for pattern matching and string manipulation.\\n  - Use string methods for basic string cleaning.\\n  - Use `apply()` to apply custom cleaning functions.\\n\\nAnd here\\'s a little joke for you: Why do Python programmers prefer to work with dirty data? Because they like to take a byte out of grime! 😄'),\n",
       " HumanMessage(content='What is Pandas groupby?'),\n",
       " AIMessage(content=\"Imagine you have a bunch of colored blocks—red, blue, and green. You want to see how many blocks you have of each color. So, you make little groups of the same color and then count them. That's what `groupby` in Pandas does with data!\\n\\nPandas `groupby` is a way to split data into groups based on some criteria. Here's how it works:\\n\\n1. **Split**: First, it divides the data into groups based on your chosen category (like color for blocks).\\n2. **Apply**: Then, it does something with each group (like counting or adding up numbers).\\n3. **Combine**: Finally, it puts the results back together so you can see them all at once.\\n\\nLet's say you have a list of pets and their weights, and you want to know the average weight for each type of pet. Here's how you'd do it with `groupby`:\\n\\n```python\\nimport pandas as pd\\n\\n# This is our list of pets with their types and weights\\npets_data = {\\n    'Pet Type': ['Dog', 'Cat', 'Dog', 'Bird', 'Cat', 'Bird', 'Dog'],\\n    'Weight': [50, 7, 20, 1, 5, 0.5, 30]\\n}\\n\\n# We put our pets into a DataFrame\\npets_df = pd.DataFrame(pets_data)\\n\\n# Now we group the pets by their type\\ngrouped_pets = pets_df.groupby('Pet Type')\\n\\n# We calculate the average weight for each group of pets\\naverage_weight = grouped_pets.mean()\\n\\nprint(average_weight)\\n```\\n\\n- **BULLET POINTS**:\\n  - `groupby` is used to group data in a DataFrame.\\n  - Groups are created based on one or more columns.\\n  - Common operations after `groupby` include `mean()`, `sum()`, `count()`, etc.\\n  - The result is a new DataFrame with the grouped column as the index and the operation's result as the columns.\\n\\nAnd for a bit of humor: Why did the DataFrame `groupby` itself at the party? Because it wanted to aggregate its friends! 😄\"),\n",
       " HumanMessage(content='could you please give a database diagram?'),\n",
       " AIMessage(content=\"As a text-based assistant, I can't create visual content like images or diagrams directly. However, I can describe how to create a simple database diagram and what it might include.\\n\\nA database diagram, also known as an Entity-Relationship Diagram (ERD), shows how tables in a database are related to each other. It typically includes:\\n\\n- **Entities**: These are the tables in your database. In a diagram, they're often shown as rectangles with the table name at the top.\\n- **Attributes**: These are the columns within the tables. They're listed inside the entity rectangles.\\n- **Primary Keys (PK)**: A special attribute that uniquely identifies each record in a table. It's often underlined in the diagram.\\n- **Foreign Keys (FK)**: An attribute that creates a link between tables. It's a primary key in one table that shows up in another table.\\n- **Relationships**: Lines that connect tables to show how they're related. The ends of the lines show the type of relationship (one-to-one, one-to-many, many-to-many).\\n\\nHere's a textual representation of a simple database diagram:\\n\\n```\\n+----------------+     +----------------+\\n|     Author     |     |     Book       |\\n|----------------|     |----------------|\\n| PK | author_id |<---| FK | author_id |\\n|    | name      |     | PK | book_id   |\\n|    | bio       |     |    | title     |\\n+----------------+     |    | genre     |\\n                       +----------------+\\n```\\n\\nIn this example:\\n- We have two tables: `Author` and `Book`.\\n- `Author` has a primary key `author_id`.\\n- `Book` has a primary key `book_id` and a foreign key `author_id`.\\n- The line with an arrow shows a one-to-many relationship: one author can write many books.\\n\\nTo create a visual database diagram, you can use tools like:\\n- Lucidchart\\n- draw.io\\n- Microsoft Visio\\n- MySQL Workbench (for MySQL databases)\\n- pgAdmin (for PostgreSQL databases)\\n\\nYou would use these tools to draw entities, connect them with lines, and label the relationships appropriately.\")]"
      ]
     },
     "execution_count": 24,
     "metadata": {},
     "output_type": "execute_result"
    }
   ],
   "source": [
    "chat = maybe_load_chat_memory(chat, \"13\")\n",
    "chat.memory.chat_memory.messages"
   ]
  },
  {
   "cell_type": "code",
   "execution_count": null,
   "id": "1ae2c6e4-a937-496c-919b-a772108f0555",
   "metadata": {},
   "outputs": [],
   "source": []
  },
  {
   "cell_type": "code",
   "execution_count": 5,
   "id": "dd2c5e7d-9a34-4201-a28c-a93ab31d08a3",
   "metadata": {},
   "outputs": [],
   "source": [
    "output = chat(\"What are some rules to follow when creating data visualizations?\")"
   ]
  },
  {
   "cell_type": "code",
   "execution_count": 6,
   "id": "1e1e7c77-5722-4dfa-8596-4829e117cd7b",
   "metadata": {},
   "outputs": [
    {
     "name": "stdout",
     "output_type": "stream",
     "text": [
      "When creating data visualizations, there are some important rules to follow. Here are the key points to keep in mind:\n",
      "\n",
      "1. **Purpose of Visualization**: The purpose of a data visualization is to facilitate the communication of a message or idea. It helps to communicate things that others may not know.\n",
      "\n",
      "2. **Steps to Creating Effective Visualizations**:\n",
      "   - Identify the message you want to communicate.\n",
      "   - Describe the ideas that should be communicated in words.\n",
      "   - Create a draft of your visualization to verify the data and the story you want to tell.\n",
      "   - Refine the visualization details and remove any information that distracts from the message.\n",
      "\n",
      "3. **Visualization Types**: Understand when to use each of the core types of plots to effectively convey the message.\n",
      "\n",
      "4. **Color in Plots**: Use different shades of the same color, ordered from lightest to darkest, instead of zebra patterns for bar plots.\n",
      "\n",
      "5. **References**: There are resources available, such as articles and guides, that provide concise rules and recommendations for creating good visualizations.\n",
      "\n",
      "To summarize, when creating data visualizations, it's important to have a clear purpose, follow effective steps, choose the right visualization types, use colors effectively, and refer to helpful resources for guidance.\n",
      "\n",
      "Do you want to see an example of a data visualization that follows these rules?\n"
     ]
    }
   ],
   "source": [
    "print(output[\"output\"])"
   ]
  },
  {
   "cell_type": "code",
   "execution_count": 7,
   "id": "4e5f98a2-c481-466c-ba1c-23d77372f8e2",
   "metadata": {},
   "outputs": [
    {
     "name": "stdout",
     "output_type": "stream",
     "text": [
      "\u001b[2m2023-11-27 15:48:55\u001b[0m [\u001b[32m\u001b[1minfo     \u001b[0m] \u001b[1msaved 4 messages              \u001b[0m \u001b[36mchat_id\u001b[0m=\u001b[35mtesting\u001b[0m\n"
     ]
    }
   ],
   "source": [
    "save_chat_memory(chat, \"testing\")"
   ]
  },
  {
   "cell_type": "code",
   "execution_count": 8,
   "id": "46e58115-6c9e-494e-9a72-4da0b6d6a7ab",
   "metadata": {},
   "outputs": [
    {
     "data": {
      "text/plain": [
       "[HumanMessage(content='What are some rules to follow when creating data visualizations?'),\n",
       " AIMessage(content='', additional_kwargs={'function_call': {'arguments': '{\"query\":\"rules for creating data visualizations\"}', 'name': 'search_course_content'}}),\n",
       " FunctionMessage(content='[Document(page_content=\"This notebook is going to be about data visualizations and it\\'s going to talk about some rules and guidelines. Whereas our previous discussion was focused on how to create a graph, this discussion will be focused on creating the right graph or creating a compelling graph. This material, my director, preface was coauthored with Paul Schreimpf, who\\'s at UBC. And what we\\'re going to do is we\\'re going to understand what steps go into creating a visualization. We\\'ll identify when is the right time to use each of the core types of plots. And we\\'ll introduce the ability to make effective visualizations. And so we\\'ll start by doing our normal imports. And we\\'ll start. So an economist or a data scientist job goes beyond simply learning new things using data and theory. Learning new things is actually a way to help economists or data scientists communicate these ideas to others. And the medium in which these ideas are communicated is typically an academic paper or a business meeting. And the most effective way to communicate ideas is via well done visualizations.\", metadata={\\'source\\': \\'videos/transcripts_tiny/2.7.2 Visualization Rules.srt\\', \\'content_id\\': 153, \\'timestamps\\': \\'00:00:00 --> 00:01:21\\', \\'chunk_number\\': 0}), Document(page_content=\\'# Data Visualization: Rules and Guidelines\\\\n\\\\n**Co-authored with** [Paul Schrimpf (*UBC*)](https://economics.ubc.ca/faculty-and-staff/paul-schrimpf/)\\\\n\\\\n\\\\n**Prerequisites**\\\\n\\\\n- [Introduction to Plotting](../scientific/plotting.ipynb)  \\\\n\\\\n\\\\n**Outcomes**\\\\n\\\\n- Understand steps of creating a visualization  \\\\n- Know when to use each of the core plots  \\\\n- Introductory ability to make effective visualizations  \\\\n\\\\n## Outline\\\\n\\\\n- [Data Visualization: Rules and Guidelines](#Data-Visualization:-Rules-and-Guidelines)  \\\\n  - [Introduction](#Introduction)  \\\\n  - [Steps to Creating Effective Charts](#Steps-to-Creating-Effective-Charts)  \\\\n  - [Visualization Types](#Visualization-Types)  \\\\n  - [Color in Plots](#Color-in-Plots)  \\\\n  - [Visualization Rules](#Visualization-Rules)  \\\\n  - [References](#References)  \\\\n  - [Exercises](#Exercises)\\', metadata={\\'type\\': \\'notebook\\', \\'source\\': \\'Parsed Notebooks/07.2_visualization_rules.md\\', \\'content_id\\': 191, \\'chunk_number\\': 0}), Document(page_content=\"And he\\'ll find graphs that he thought were well done. And that\\'s a way that he prepares his presentations. A couple more links are just a couple more links about creating good visualizations. This financial times article is great. This article we\\'ve linked to on towards data science is an exceptional job at redesigning graphics that were a real thing that we\\'re originally done very poorly. And then we\\'ll link again to this data, this Duke library data visualization guide. They have a few concise rules that are also worth reviewing. So let\\'s look at some recommendations for barplats. So don a long in her Wall Street guide for visualization, and it\\'s a lot of surprises against zebra patterns. And instead, she proposes that you use different shades of the same color, ordered from lightest to darkest. So in this plot, we\\'re using different shades of blue, starting in a very light shade and moving to a darker shade in alphabetical order in this case. And we then put a legend at the top to associate each bar with a particular country.\", metadata={\\'source\\': \\'videos/transcripts_tiny/2.7.2 Visualization Rules.srt\\', \\'content_id\\': 153, \\'timestamps\\': \\'00:44:24 --> 00:45:44\\', \\'chunk_number\\': 35}), Document(page_content=\"So the purpose of a data visualization is to facilitate the communication of a message or idea. So the whole purpose for which we create graphs is to help communicate things that we know that someone else may not know. And the steps by which we find our most effective are to do the following four things. You start by identifying what is the message that you would like to communicate. Second, you should describe to yourself in words. The ideas that should be communicated by your visualization. So you should say things like, I\\'d like to have dots that show the relationship between X and Y, and the fact that they are increasing means X. Three, you should create a draft of your visualization. And this actually gives you a chance to verify your data and to verify that the story you\\'re trying to tell is in your data. Finally, you find two individual visualization details and remove any information or any piece of graph or color or line that will distract from the message that you\\'re trying to tell.\", metadata={\\'source\\': \\'videos/transcripts_tiny/2.7.2 Visualization Rules.srt\\', \\'content_id\\': 153, \\'timestamps\\': \\'00:03:22 --> 00:04:38\\', \\'chunk_number\\': 3})]', name='search_course_content'),\n",
       " AIMessage(content=\"When creating data visualizations, there are some important rules to follow. Here are the key points to keep in mind:\\n\\n1. **Purpose of Visualization**: The purpose of a data visualization is to facilitate the communication of a message or idea. It helps to communicate things that others may not know.\\n\\n2. **Steps to Creating Effective Visualizations**:\\n   - Identify the message you want to communicate.\\n   - Describe the ideas that should be communicated in words.\\n   - Create a draft of your visualization to verify the data and the story you want to tell.\\n   - Refine the visualization details and remove any information that distracts from the message.\\n\\n3. **Visualization Types**: Understand when to use each of the core types of plots to effectively convey the message.\\n\\n4. **Color in Plots**: Use different shades of the same color, ordered from lightest to darkest, instead of zebra patterns for bar plots.\\n\\n5. **References**: There are resources available, such as articles and guides, that provide concise rules and recommendations for creating good visualizations.\\n\\nTo summarize, when creating data visualizations, it's important to have a clear purpose, follow effective steps, choose the right visualization types, use colors effectively, and refer to helpful resources for guidance.\\n\\nDo you want to see an example of a data visualization that follows these rules?\")]"
      ]
     },
     "execution_count": 8,
     "metadata": {},
     "output_type": "execute_result"
    }
   ],
   "source": [
    "chat.memory.chat_memory.messages"
   ]
  },
  {
   "cell_type": "code",
   "execution_count": null,
   "id": "d1e0dfe1-f4c6-42d9-8244-4c0754ff6c9e",
   "metadata": {},
   "outputs": [],
   "source": []
  }
 ],
 "metadata": {
  "kernelspec": {
   "display_name": "Python 3 (langchain)",
   "language": "python",
   "name": "python3_langchain"
  },
  "language_info": {
   "codemirror_mode": {
    "name": "ipython",
    "version": 3
   },
   "file_extension": ".py",
   "mimetype": "text/x-python",
   "name": "python",
   "nbconvert_exporter": "python",
   "pygments_lexer": "ipython3",
   "version": "3.11.6"
  }
 },
 "nbformat": 4,
 "nbformat_minor": 5
}
