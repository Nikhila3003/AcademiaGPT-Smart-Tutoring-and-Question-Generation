{
 "cells": [
  {
   "cell_type": "code",
   "execution_count": 2,
   "id": "0c73f0dc-ce17-481c-9139-7b900b456313",
   "metadata": {},
   "outputs": [
    {
     "name": "stdout",
     "output_type": "stream",
     "text": [
      "Current working directory: /home/jupyteach-msda/jupyteach-ai/videos/nikhila_mp3\n"
     ]
    }
   ],
   "source": [
    "print(\"Current working directory:\", os.getcwd())\n"
   ]
  },
  {
   "cell_type": "code",
   "execution_count": 5,
   "id": "7049edf1-07f8-4669-894a-d18beccd9f07",
   "metadata": {},
   "outputs": [],
   "source": [
    "import os\n",
    "from langchain.text_splitter import RecursiveCharacterTextSplitter\n",
    "\n",
    "def chunk_text_files_in_folder(folder_path, output_folder, chunk_size=200, chunk_overlap=20):\n",
    "    \n",
    "    # Create the output folder if it doesn't exist\n",
    "    os.makedirs(output_folder, exist_ok=True)\n",
    "\n",
    "    # List all text files in the input folder\n",
    "    text_files = [f for f in os.listdir(folder_path) if f.endswith('.txt')]\n",
    "\n",
    "    for text_file in text_files:\n",
    "        # Construct the full file paths\n",
    "        input_file_path = os.path.join(folder_path, text_file)\n",
    "        output_file_path = os.path.join(output_folder, text_file)\n",
    "\n",
    "        # Read the content of the text file\n",
    "        with open(input_file_path, 'r', encoding='utf-8') as input_file:\n",
    "            text_content = input_file.read()\n",
    "\n",
    "        # Initialize the splitter\n",
    "        splitter = RecursiveCharacterTextSplitter(chunk_size=chunk_size, chunk_overlap=chunk_overlap)\n",
    "\n",
    "        chunks = []\n",
    "        for chunk in splitter.split_text(text_content):\n",
    "            chunks.append(chunk)\n",
    "\n",
    "        # Write the chunks to an output file\n",
    "        with open(output_file_path, 'w', encoding='utf-8') as output_file:\n",
    "            for chunk in chunks:\n",
    "                output_file.write(chunk)\n",
    "\n",
    "# Usage\n",
    "input_folder_path = '.'\n",
    "output_folder_path = 'chunked_text_files'\n",
    "\n",
    "chunk_text_files_in_folder(input_folder_path, output_folder_path)\n"
   ]
  },
  {
   "cell_type": "code",
   "execution_count": 6,
   "id": "e350ba4c-7188-40ea-bf52-f59e86703aed",
   "metadata": {},
   "outputs": [
    {
     "name": "stdout",
     "output_type": "stream",
     "text": [
      "The file \"chunked_text_files/2.1.1 pandas intro.txt\" contains 66 chunks.\n"
     ]
    }
   ],
   "source": [
    "file_path = 'chunked_text_files/2.1.1 pandas intro.txt'  # Replace with the actual path to the file\n",
    "\n",
    "try:\n",
    "    with open(file_path, 'r', encoding='utf-8') as chunked_file:\n",
    "        chunks = chunked_file.read().split('\\n')  # Assuming chunks are separated by newline characters\n",
    "\n",
    "    num_chunks = len(chunks)\n",
    "    print(f'The file \"{file_path}\" contains {num_chunks} chunks.')\n",
    "except FileNotFoundError:\n",
    "    print(f'File not found: \"{file_path}\"')\n"
   ]
  },
  {
   "cell_type": "code",
   "execution_count": null,
   "id": "e7405502-0e13-4e3e-a091-18038ce959da",
   "metadata": {},
   "outputs": [],
   "source": []
  }
 ],
 "metadata": {
  "kernelspec": {
   "display_name": "Python (jupyteach)",
   "language": "python",
   "name": "jupyteach"
  },
  "language_info": {
   "codemirror_mode": {
    "name": "ipython",
    "version": 3
   },
   "file_extension": ".py",
   "mimetype": "text/x-python",
   "name": "python",
   "nbconvert_exporter": "python",
   "pygments_lexer": "ipython3",
   "version": "3.11.5"
  }
 },
 "nbformat": 4,
 "nbformat_minor": 5
}
