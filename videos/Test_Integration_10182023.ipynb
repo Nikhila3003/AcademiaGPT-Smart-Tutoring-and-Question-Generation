{
 "cells": [
  {
   "cell_type": "code",
   "execution_count": 1,
   "id": "dee12623-6a6a-45c2-943e-b7a379e1949a",
   "metadata": {},
   "outputs": [
    {
     "data": {
      "text/plain": [
       "'/home/jupyteach-msda/jupyteach-ai/videos'"
      ]
     },
     "execution_count": 1,
     "metadata": {},
     "output_type": "execute_result"
    }
   ],
   "source": [
    "import os\n",
    "os.getcwd()"
   ]
  },
  {
   "cell_type": "code",
   "execution_count": 5,
   "id": "f6259f13-ef60-4b8d-98cb-0bb4a4bc16a9",
   "metadata": {},
   "outputs": [
    {
     "name": "stdout",
     "output_type": "stream",
     "text": [
      "MoviePy - Writing audio in Test_srt_output_10182023/2.1.2 pandas core functionality.mp3\n"
     ]
    },
    {
     "name": "stderr",
     "output_type": "stream",
     "text": [
      "                                                                        \r"
     ]
    },
    {
     "name": "stdout",
     "output_type": "stream",
     "text": [
      "MoviePy - Done.\n"
     ]
    }
   ],
   "source": [
    "import os\n",
    "import moviepy.editor as mp\n",
    "from whisper.utils import get_writer\n",
    "import whisper\n",
    "\n",
    "def transcribe_video_to_srt(input_folder_video, output_folder_srt):\n",
    "    # Check if the output folder exists, or create it if not\n",
    "    if not os.path.exists(output_folder_srt):\n",
    "        os.makedirs(output_folder_srt)\n",
    "\n",
    "    # List all video files in the input folder\n",
    "    video_files = [f for f in os.listdir(input_folder_video) if f.endswith('.mp4')]\n",
    "\n",
    "    # Loop through each video file\n",
    "    for video_file in video_files:\n",
    "        # Convert the video to MP3 audio\n",
    "        clip = mp.VideoFileClip(os.path.join(input_folder_video, video_file))\n",
    "        audio_file = clip.audio\n",
    "        audio_file.write_audiofile(os.path.join(output_folder_srt, video_file.replace(\".mp4\", \".mp3\")))\n",
    "\n",
    "        # Load the Whisper ASR model\n",
    "        model = whisper.load_model(\"tiny\")\n",
    "\n",
    "        # Transcribe the audio\n",
    "        audio_filename = os.path.join(output_folder_srt, video_file.replace(\".mp4\", \".mp3\"))\n",
    "        result = model.transcribe(audio_filename)\n",
    "\n",
    "        # Define SRT writer options\n",
    "        srt_writer = get_writer(\"srt\", output_folder_srt)\n",
    "        options = {\n",
    "            'max_line_width': None,\n",
    "            'max_line_count': None,\n",
    "            'highlight_words': False\n",
    "        }\n",
    "\n",
    "        # Write the transcription to an SRT file\n",
    "        srt_writer(result, audio_filename, options)\n",
    "\n",
    "# Specify input and output folders\n",
    "input_folder_video = \"Test_10182023\"\n",
    "output_folder_srt = \"Test_srt_output_10182023\"\n",
    "\n",
    "# Call the function to transcribe and save the SRT files for all videos in the input folder\n",
    "transcribe_video_to_srt(input_folder_video, output_folder_srt)\n",
    "\n",
    "########################################################################################\n",
    "\n",
    "import os\n",
    "import re\n",
    "rex = re.compile(r\"\\d+\\n(\\d{2}:\\d{2}:\\d{2}),\\d{3} --> (\\d{2}:\\d{2}:\\d{2}),\\d{3}\")\n",
    "\n",
    "def chunk_srt_files(full_text, chunk_length):\n",
    "\n",
    "    # split on the regex.\n",
    "    splits = rex.split(full_text)[1:]\n",
    "\n",
    "    # combine parts into a list of 3-tuples (start, end, txt)\n",
    "    parts = []\n",
    "    for i in range(0, len(splits), 3):\n",
    "        start_time = splits[i]\n",
    "        end_time = splits[i+1]\n",
    "        content = splits[i+2].strip()\n",
    "        parts.append((start_time, end_time, content))\n",
    "        \n",
    "\n",
    "    # combine multiple parts to get desired chunk length\n",
    "    # will be a list of 3-tuples (start, end, txt)\n",
    "    chunks = []\n",
    "    ix = 0\n",
    "    current_chunk_text = \"\"\n",
    "    for i, part in enumerate(parts):\n",
    "        current_chunk_text = current_chunk_text + \" \" + part[2]\n",
    "        if len(current_chunk_text) > chunk_length or i == len(parts) - 1:\n",
    "            # if we have a long enough chunk OR we are on the last piece of content...\n",
    "            current_chunk = (\n",
    "                parts[ix][0],  # starting timestamp\n",
    "                part[1],\n",
    "                current_chunk_text.strip()\n",
    "            )\n",
    "            chunks.append(current_chunk)\n",
    "            ix = i  # we repeat this chunk one more time for overlap\n",
    "            current_chunk_text =  part[2]\n",
    "\n",
    "    return chunks\n",
    "\n",
    "def process_all_srt_files(input_folder_srt, output_folder_chunk, chunk_length):\n",
    "    # Ensure the output folder exists, or create it if not\n",
    "    if not os.path.exists(output_folder_chunk):\n",
    "        os.makedirs(output_folder_chunk)\n",
    "\n",
    "    # List all SRT files in the input folder\n",
    "    srt_files = [f for f in os.listdir(input_folder_srt) if f.endswith('.srt')]\n",
    "\n",
    "    for srt_file in srt_files:\n",
    "        # Read the content of the SRT file\n",
    "        with open(os.path.join(input_folder_srt, srt_file)) as f:\n",
    "            txt = f.read()\n",
    "\n",
    "        # Call the chunk_srt_files function to process the SRT content\n",
    "        chunks = chunk_srt_files(txt, chunk_length)\n",
    "\n",
    "        # Save the chunked content to the output folder\n",
    "        output_file = os.path.join(output_folder_chunk, srt_file)\n",
    "        with open(output_file, 'w') as f:\n",
    "            for chunk in chunks:\n",
    "                f.write(f\"{chunk[0]} --> {chunk[1]}\\n{chunk[2]}\\n\\n\")\n",
    "\n",
    "# Set the paths for the input and output folders and specify the chunk length\n",
    "input_folder_srt = output_folder_srt\n",
    "output_folder_chunk = \"Test_chunk_output_10182023\"\n",
    "chunk_length = 500\n",
    "\n",
    "# Call the function to process all SRT files in the input folder\n",
    "process_all_srt_files(input_folder_srt, output_folder_chunk, chunk_length)\n",
    "\n"
   ]
  },
  {
   "cell_type": "code",
   "execution_count": 4,
   "id": "5f3442a9-95b3-4aad-9717-16a0401ddcb0",
   "metadata": {},
   "outputs": [
    {
     "ename": "NameError",
     "evalue": "name 'srt_writer' is not defined",
     "output_type": "error",
     "traceback": [
      "\u001b[0;31m---------------------------------------------------------------------------\u001b[0m",
      "\u001b[0;31mNameError\u001b[0m                                 Traceback (most recent call last)",
      "Cell \u001b[0;32mIn[4], line 1\u001b[0m\n\u001b[0;32m----> 1\u001b[0m \u001b[43msrt_writer\u001b[49m\n",
      "\u001b[0;31mNameError\u001b[0m: name 'srt_writer' is not defined"
     ]
    }
   ],
   "source": []
  }
 ],
 "metadata": {
  "kernelspec": {
   "display_name": "Python (jupyteach)",
   "language": "python",
   "name": "jupyteach"
  },
  "language_info": {
   "codemirror_mode": {
    "name": "ipython",
    "version": 3
   },
   "file_extension": ".py",
   "mimetype": "text/x-python",
   "name": "python",
   "nbconvert_exporter": "python",
   "pygments_lexer": "ipython3",
   "version": "3.11.5"
  }
 },
 "nbformat": 4,
 "nbformat_minor": 5
}
