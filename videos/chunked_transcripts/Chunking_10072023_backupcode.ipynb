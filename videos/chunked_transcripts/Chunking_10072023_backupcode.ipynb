{
 "cells": [
  {
   "cell_type": "code",
   "execution_count": null,
   "id": "8c1d7805-7b8f-4784-bb0c-9a8577a2564d",
   "metadata": {},
   "outputs": [],
   "source": [
    "# Using SRT loader, chunks one file\n",
    "\n",
    "import re\n",
    "from langchain.document_loaders import SRTLoader\n",
    "from langchain.text_splitter import CharacterTextSplitter\n",
    "\n",
    "loader = SRTLoader('transcripts_tiny/2.1.1 pandas intro.srt')\n",
    "docs = loader.load()\n",
    "\n",
    "splitter = CharacterTextSplitter(separator=\"\", chunk_size=200, chunk_overlap=20)\n",
    "\n",
    "chunks = []\n",
    "for doc in docs:\n",
    "    for chunk in splitter.split_text(doc.page_content):\n",
    "        chunks.append(chunk)\n",
    "\n",
    "for chunk in chunks:\n",
    "    print(chunk)"
   ]
  },
  {
   "cell_type": "code",
   "execution_count": null,
   "id": "2ffba7f9-c48e-4fed-998d-2042d8222e50",
   "metadata": {},
   "outputs": [],
   "source": [
    "# Using RecursiveCharacterTextSplitter, chunks one file\n",
    "\n",
    "with open('transcripts_tiny/2.1.1 pandas intro.srt') as f:\n",
    "    state_of_the_union = f.read()\n",
    "\n",
    "from langchain.text_splitter import RecursiveCharacterTextSplitter\n",
    "\n",
    "text_splitter = RecursiveCharacterTextSplitter(\n",
    "    # Set a really small chunk size, just to show.\n",
    "    chunk_size = 500,\n",
    "    chunk_overlap  = 20,\n",
    "    length_function = len,\n",
    "    add_start_index = True,\n",
    "    separators=[\" \"]\n",
    ")\n",
    "\n",
    "texts = text_splitter.create_documents([state_of_the_union])\n",
    "#print(texts)\n",
    "\n",
    "# Iterate through the list of documents and print each one\n",
    "for document in texts:\n",
    "    print(document.page_content)  # Print the content of each document\n",
    "    print(\"\\n\")  # Print an empty line to separate the chunks"
   ]
  },
  {
   "cell_type": "code",
   "execution_count": null,
   "id": "24eda790-de10-4500-94c2-680e6af87c4d",
   "metadata": {},
   "outputs": [],
   "source": []
  }
 ],
 "metadata": {
  "kernelspec": {
   "display_name": "Python (jupyteach)",
   "language": "python",
   "name": "jupyteach"
  },
  "language_info": {
   "codemirror_mode": {
    "name": "ipython",
    "version": 3
   },
   "file_extension": ".py",
   "mimetype": "text/x-python",
   "name": "python",
   "nbconvert_exporter": "python",
   "pygments_lexer": "ipython3",
   "version": "3.11.5"
  }
 },
 "nbformat": 4,
 "nbformat_minor": 5
}
