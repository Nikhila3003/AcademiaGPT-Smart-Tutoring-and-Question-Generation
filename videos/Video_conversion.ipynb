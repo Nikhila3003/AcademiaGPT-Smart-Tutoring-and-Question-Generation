{
 "cells": [
  {
   "cell_type": "code",
   "execution_count": 9,
   "id": "c1e3f03c-1d9f-4aa1-bdf2-33fe133cf585",
   "metadata": {},
   "outputs": [],
   "source": [
    "import whisper"
   ]
  },
  {
   "cell_type": "code",
   "execution_count": 10,
   "id": "47520fa8-96c6-4705-944e-fd7adc88dcbf",
   "metadata": {},
   "outputs": [],
   "source": [
    "video_path = '2.1.1 pandas intro.mp4'\n",
    "with open(video_path, 'rb') as video_file:\n",
    "    video_data = video_file.read()"
   ]
  },
  {
   "cell_type": "code",
   "execution_count": 11,
   "id": "c220034a-0af8-45e6-8651-a2f3fc2f0644",
   "metadata": {},
   "outputs": [],
   "source": [
    "import moviepy.editor as mp\n",
    "m = mp.VideoFileClip(\"./2.1.1 pandas intro.mp4\")"
   ]
  },
  {
   "cell_type": "code",
   "execution_count": 12,
   "id": "538b1666-ec03-41f4-80aa-875d179548a6",
   "metadata": {},
   "outputs": [
    {
     "name": "stdout",
     "output_type": "stream",
     "text": [
      "MoviePy - Writing audio in ./2.1.1 pandas intro.mp3\n"
     ]
    },
    {
     "name": "stderr",
     "output_type": "stream",
     "text": [
      "                                                                        "
     ]
    },
    {
     "name": "stdout",
     "output_type": "stream",
     "text": [
      "MoviePy - Done.\n"
     ]
    },
    {
     "name": "stderr",
     "output_type": "stream",
     "text": [
      "\r"
     ]
    }
   ],
   "source": [
    "m.audio.write_audiofile(\"./2.1.1 pandas intro.mp3\")"
   ]
  },
  {
   "cell_type": "code",
   "execution_count": 13,
   "id": "a678454e-9d05-416c-92d0-239f5340b0b3",
   "metadata": {},
   "outputs": [],
   "source": [
    "model = whisper.load_model(\"base\")"
   ]
  },
  {
   "cell_type": "code",
   "execution_count": 14,
   "id": "d1f4e366-3ced-4e64-85db-7e2601b26bb8",
   "metadata": {},
   "outputs": [],
   "source": [
    "result = model.transcribe(\"./2.1.1 pandas intro.mp3\")"
   ]
  },
  {
   "cell_type": "code",
   "execution_count": 18,
   "id": "dbf397b6-1ae0-4835-a9fc-4583bf1017d2",
   "metadata": {
    "scrolled": true
   },
   "outputs": [
    {
     "name": "stdout",
     "output_type": "stream",
     "text": [
      "['2.1.1 pandas intro.mp4', '2.1.2 pandas core functionality.mp4', '2.2.2 data storage formats with pandas.mp4', '2.2.1 the pandas index.mp4', '2.3.1 cleaning data with pandas.mp4', '2.3.2 Reshaping data with pandas.mp4', '2.3.3 Merging datasets with Pandas.mp4', '2.6.2 Data on Labor Markets (2 of 4).mp4', '2.4.1 Pandas Core Review (1 of 2).mp4', '2.6.1 Accessing Data via APIs (1 of 4).mp4', '2.4.2 Pandas Review UN Population data (2 of 2).mp4', '2.6.3 Using the BLS Api (3 of 4).mp4', '2.6.4 Exploring Labor Market Data from BLS (4 of 4).mp4', '2.7.1 Plotting Introduction.mp4', '2.8.1 Intro to SQL (part 1 of 2).mp4', '2.7.4 Altair.mp4', '2.10.1 Markov Chains 1 (1 of 4).mp4', '2.10.2 Markov Chains 2 (2 of 4).mp4', '2.5.1 Groupby Operations.mp4', '2.7.3 Web plotting introduction.mp4', '2.10.3 Markov Chains 3 (3 of 4).mp4', '2.8.2 Intro to SQL (part 2 of 2).mp4', '2.10.4 Markov Chains 4 (4 of 4).mp4', '2.7.2 Visualization Rules.mp4', '2.11.3 Lake Model Meets Data (2 of 2).mp4', '2.9.1 Temporal Data In pandas.mp4', '2.11.1 Lake Model.mp4', '2.11.2 Lake Model Meets Data (1 of 2).mp4', '2.13.1 Sharing Results.mp4', '2.12.1 Web Scraping Intro.mp4']\n"
     ]
    }
   ],
   "source": [
    "import os\n",
    "\n",
    "\n",
    "folder_path = current_directory\n",
    "\n",
    "\n",
    "file_names = os.listdir(folder_path)\n",
    "\n",
    "\n",
    "video_file_names = [file for file in file_names if file.lower().endswith(('.mp4'))]\n",
    "\n",
    "\n",
    "print(video_file_names)\n"
   ]
  },
  {
   "cell_type": "code",
   "execution_count": null,
   "id": "f3663991-a488-4809-b845-2851ad53153c",
   "metadata": {},
   "outputs": [],
   "source": []
  },
  {
   "cell_type": "code",
   "execution_count": 20,
   "id": "deb4e3df-b712-47dd-a325-3fdcdb4b4b00",
   "metadata": {},
   "outputs": [
    {
     "name": "stdout",
     "output_type": "stream",
     "text": [
      "MoviePy - Writing audio in /home/jupyteach-msda/jupyteach-ai/videos/nikhila_mp3/2.1.1 pandas intro.mp3\n"
     ]
    },
    {
     "name": "stderr",
     "output_type": "stream",
     "text": [
      "                                                                        \r"
     ]
    },
    {
     "name": "stdout",
     "output_type": "stream",
     "text": [
      "MoviePy - Done.\n",
      "MoviePy - Writing audio in /home/jupyteach-msda/jupyteach-ai/videos/nikhila_mp3/2.1.2 pandas core functionality.mp3\n"
     ]
    },
    {
     "name": "stderr",
     "output_type": "stream",
     "text": [
      "                                                                        \r"
     ]
    },
    {
     "name": "stdout",
     "output_type": "stream",
     "text": [
      "MoviePy - Done.\n",
      "MoviePy - Writing audio in /home/jupyteach-msda/jupyteach-ai/videos/nikhila_mp3/2.2.2 data storage formats with pandas.mp3\n"
     ]
    },
    {
     "name": "stderr",
     "output_type": "stream",
     "text": [
      "                                                                        \r"
     ]
    },
    {
     "name": "stdout",
     "output_type": "stream",
     "text": [
      "MoviePy - Done.\n",
      "MoviePy - Writing audio in /home/jupyteach-msda/jupyteach-ai/videos/nikhila_mp3/2.2.1 the pandas index.mp3\n"
     ]
    },
    {
     "name": "stderr",
     "output_type": "stream",
     "text": [
      "                                                                        \r"
     ]
    },
    {
     "name": "stdout",
     "output_type": "stream",
     "text": [
      "MoviePy - Done.\n",
      "MoviePy - Writing audio in /home/jupyteach-msda/jupyteach-ai/videos/nikhila_mp3/2.3.1 cleaning data with pandas.mp3\n"
     ]
    },
    {
     "name": "stderr",
     "output_type": "stream",
     "text": [
      "                                                                        \r"
     ]
    },
    {
     "name": "stdout",
     "output_type": "stream",
     "text": [
      "MoviePy - Done.\n",
      "MoviePy - Writing audio in /home/jupyteach-msda/jupyteach-ai/videos/nikhila_mp3/2.3.2 Reshaping data with pandas.mp3\n"
     ]
    },
    {
     "name": "stderr",
     "output_type": "stream",
     "text": [
      "                                                                        \r"
     ]
    },
    {
     "name": "stdout",
     "output_type": "stream",
     "text": [
      "MoviePy - Done.\n",
      "MoviePy - Writing audio in /home/jupyteach-msda/jupyteach-ai/videos/nikhila_mp3/2.3.3 Merging datasets with Pandas.mp3\n"
     ]
    },
    {
     "name": "stderr",
     "output_type": "stream",
     "text": [
      "                                                                        \r"
     ]
    },
    {
     "name": "stdout",
     "output_type": "stream",
     "text": [
      "MoviePy - Done.\n",
      "MoviePy - Writing audio in /home/jupyteach-msda/jupyteach-ai/videos/nikhila_mp3/2.6.2 Data on Labor Markets (2 of 4).mp3\n"
     ]
    },
    {
     "name": "stderr",
     "output_type": "stream",
     "text": [
      "                                                                        \r"
     ]
    },
    {
     "name": "stdout",
     "output_type": "stream",
     "text": [
      "MoviePy - Done.\n",
      "MoviePy - Writing audio in /home/jupyteach-msda/jupyteach-ai/videos/nikhila_mp3/2.4.1 Pandas Core Review (1 of 2).mp3\n"
     ]
    },
    {
     "name": "stderr",
     "output_type": "stream",
     "text": [
      "                                                                        \r"
     ]
    },
    {
     "name": "stdout",
     "output_type": "stream",
     "text": [
      "MoviePy - Done.\n",
      "MoviePy - Writing audio in /home/jupyteach-msda/jupyteach-ai/videos/nikhila_mp3/2.6.1 Accessing Data via APIs (1 of 4).mp3\n"
     ]
    },
    {
     "name": "stderr",
     "output_type": "stream",
     "text": [
      "                                                                        \r"
     ]
    },
    {
     "name": "stdout",
     "output_type": "stream",
     "text": [
      "MoviePy - Done.\n",
      "MoviePy - Writing audio in /home/jupyteach-msda/jupyteach-ai/videos/nikhila_mp3/2.4.2 Pandas Review UN Population data (2 of 2).mp3\n"
     ]
    },
    {
     "name": "stderr",
     "output_type": "stream",
     "text": [
      "                                                                        \r"
     ]
    },
    {
     "name": "stdout",
     "output_type": "stream",
     "text": [
      "MoviePy - Done.\n",
      "MoviePy - Writing audio in /home/jupyteach-msda/jupyteach-ai/videos/nikhila_mp3/2.6.3 Using the BLS Api (3 of 4).mp3\n"
     ]
    },
    {
     "name": "stderr",
     "output_type": "stream",
     "text": [
      "                                                                        \r"
     ]
    },
    {
     "name": "stdout",
     "output_type": "stream",
     "text": [
      "MoviePy - Done.\n",
      "MoviePy - Writing audio in /home/jupyteach-msda/jupyteach-ai/videos/nikhila_mp3/2.6.4 Exploring Labor Market Data from BLS (4 of 4).mp3\n"
     ]
    },
    {
     "name": "stderr",
     "output_type": "stream",
     "text": [
      "                                                                        \r"
     ]
    },
    {
     "name": "stdout",
     "output_type": "stream",
     "text": [
      "MoviePy - Done.\n",
      "MoviePy - Writing audio in /home/jupyteach-msda/jupyteach-ai/videos/nikhila_mp3/2.7.1 Plotting Introduction.mp3\n"
     ]
    },
    {
     "name": "stderr",
     "output_type": "stream",
     "text": [
      "                                                                        \r"
     ]
    },
    {
     "name": "stdout",
     "output_type": "stream",
     "text": [
      "MoviePy - Done.\n",
      "MoviePy - Writing audio in /home/jupyteach-msda/jupyteach-ai/videos/nikhila_mp3/2.8.1 Intro to SQL (part 1 of 2).mp3\n"
     ]
    },
    {
     "name": "stderr",
     "output_type": "stream",
     "text": [
      "                                                                        \r"
     ]
    },
    {
     "name": "stdout",
     "output_type": "stream",
     "text": [
      "MoviePy - Done.\n",
      "MoviePy - Writing audio in /home/jupyteach-msda/jupyteach-ai/videos/nikhila_mp3/2.7.4 Altair.mp3\n"
     ]
    },
    {
     "name": "stderr",
     "output_type": "stream",
     "text": [
      "                                                                        \r"
     ]
    },
    {
     "name": "stdout",
     "output_type": "stream",
     "text": [
      "MoviePy - Done.\n",
      "MoviePy - Writing audio in /home/jupyteach-msda/jupyteach-ai/videos/nikhila_mp3/2.10.1 Markov Chains 1 (1 of 4).mp3\n"
     ]
    },
    {
     "name": "stderr",
     "output_type": "stream",
     "text": [
      "                                                                        \r"
     ]
    },
    {
     "name": "stdout",
     "output_type": "stream",
     "text": [
      "MoviePy - Done.\n",
      "MoviePy - Writing audio in /home/jupyteach-msda/jupyteach-ai/videos/nikhila_mp3/2.10.2 Markov Chains 2 (2 of 4).mp3\n"
     ]
    },
    {
     "name": "stderr",
     "output_type": "stream",
     "text": [
      "                                                                        \r"
     ]
    },
    {
     "name": "stdout",
     "output_type": "stream",
     "text": [
      "MoviePy - Done.\n",
      "MoviePy - Writing audio in /home/jupyteach-msda/jupyteach-ai/videos/nikhila_mp3/2.5.1 Groupby Operations.mp3\n"
     ]
    },
    {
     "name": "stderr",
     "output_type": "stream",
     "text": [
      "                                                                        \r"
     ]
    },
    {
     "name": "stdout",
     "output_type": "stream",
     "text": [
      "MoviePy - Done.\n",
      "MoviePy - Writing audio in /home/jupyteach-msda/jupyteach-ai/videos/nikhila_mp3/2.7.3 Web plotting introduction.mp3\n"
     ]
    },
    {
     "name": "stderr",
     "output_type": "stream",
     "text": [
      "                                                                        \r"
     ]
    },
    {
     "name": "stdout",
     "output_type": "stream",
     "text": [
      "MoviePy - Done.\n",
      "MoviePy - Writing audio in /home/jupyteach-msda/jupyteach-ai/videos/nikhila_mp3/2.10.3 Markov Chains 3 (3 of 4).mp3\n"
     ]
    },
    {
     "name": "stderr",
     "output_type": "stream",
     "text": [
      "                                                                        \r"
     ]
    },
    {
     "name": "stdout",
     "output_type": "stream",
     "text": [
      "MoviePy - Done.\n",
      "MoviePy - Writing audio in /home/jupyteach-msda/jupyteach-ai/videos/nikhila_mp3/2.8.2 Intro to SQL (part 2 of 2).mp3\n"
     ]
    },
    {
     "name": "stderr",
     "output_type": "stream",
     "text": [
      "                                                                        \r"
     ]
    },
    {
     "name": "stdout",
     "output_type": "stream",
     "text": [
      "MoviePy - Done.\n",
      "MoviePy - Writing audio in /home/jupyteach-msda/jupyteach-ai/videos/nikhila_mp3/2.10.4 Markov Chains 4 (4 of 4).mp3\n"
     ]
    },
    {
     "name": "stderr",
     "output_type": "stream",
     "text": [
      "                                                                        \r"
     ]
    },
    {
     "name": "stdout",
     "output_type": "stream",
     "text": [
      "MoviePy - Done.\n",
      "MoviePy - Writing audio in /home/jupyteach-msda/jupyteach-ai/videos/nikhila_mp3/2.7.2 Visualization Rules.mp3\n"
     ]
    },
    {
     "name": "stderr",
     "output_type": "stream",
     "text": [
      "                                                                        \r"
     ]
    },
    {
     "name": "stdout",
     "output_type": "stream",
     "text": [
      "MoviePy - Done.\n",
      "MoviePy - Writing audio in /home/jupyteach-msda/jupyteach-ai/videos/nikhila_mp3/2.11.3 Lake Model Meets Data (2 of 2).mp3\n"
     ]
    },
    {
     "name": "stderr",
     "output_type": "stream",
     "text": [
      "                                                                        \r"
     ]
    },
    {
     "name": "stdout",
     "output_type": "stream",
     "text": [
      "MoviePy - Done.\n",
      "MoviePy - Writing audio in /home/jupyteach-msda/jupyteach-ai/videos/nikhila_mp3/2.9.1 Temporal Data In pandas.mp3\n"
     ]
    },
    {
     "name": "stderr",
     "output_type": "stream",
     "text": [
      "                                                                        \r"
     ]
    },
    {
     "name": "stdout",
     "output_type": "stream",
     "text": [
      "MoviePy - Done.\n",
      "MoviePy - Writing audio in /home/jupyteach-msda/jupyteach-ai/videos/nikhila_mp3/2.11.1 Lake Model.mp3\n"
     ]
    },
    {
     "name": "stderr",
     "output_type": "stream",
     "text": [
      "                                                                        \r"
     ]
    },
    {
     "name": "stdout",
     "output_type": "stream",
     "text": [
      "MoviePy - Done.\n",
      "MoviePy - Writing audio in /home/jupyteach-msda/jupyteach-ai/videos/nikhila_mp3/2.11.2 Lake Model Meets Data (1 of 2).mp3\n"
     ]
    },
    {
     "name": "stderr",
     "output_type": "stream",
     "text": [
      "                                                                        \r"
     ]
    },
    {
     "name": "stdout",
     "output_type": "stream",
     "text": [
      "MoviePy - Done.\n",
      "MoviePy - Writing audio in /home/jupyteach-msda/jupyteach-ai/videos/nikhila_mp3/2.13.1 Sharing Results.mp3\n"
     ]
    },
    {
     "name": "stderr",
     "output_type": "stream",
     "text": [
      "                                                                          \r"
     ]
    },
    {
     "name": "stdout",
     "output_type": "stream",
     "text": [
      "MoviePy - Done.\n",
      "MoviePy - Writing audio in /home/jupyteach-msda/jupyteach-ai/videos/nikhila_mp3/2.12.1 Web Scraping Intro.mp3\n"
     ]
    },
    {
     "name": "stderr",
     "output_type": "stream",
     "text": [
      "                                                                        \r"
     ]
    },
    {
     "name": "stdout",
     "output_type": "stream",
     "text": [
      "MoviePy - Done.\n"
     ]
    }
   ],
   "source": [
    "import os\n",
    "import moviepy.editor as mp\n",
    "import whisper\n",
    "from whisper.utils import get_writer\n",
    "\n",
    "def convert_videos_to_text(video_folder, output_folder):\n",
    "   \n",
    "    file_names = os.listdir(video_folder)\n",
    "\n",
    "    \n",
    "    video_file_names = [file for file in file_names if file.lower().endswith(('.mp4'))]\n",
    "\n",
    "    for video_file_name in video_file_names:\n",
    "       \n",
    "        video_path = os.path.join(video_folder, video_file_name)\n",
    "\n",
    "        \n",
    "        audio_file_name = os.path.splitext(video_file_name)[0] + \".mp3\"\n",
    "        audio_path = os.path.join(output_folder, audio_file_name)\n",
    "        text_file_name = os.path.splitext(video_file_name)[0] + \".txt\"\n",
    "        text_path = os.path.join(output_folder, text_file_name)\n",
    "\n",
    "        \n",
    "        video_clip = mp.VideoFileClip(video_path)\n",
    "        video_clip.audio.write_audiofile(audio_path)\n",
    "\n",
    "        \n",
    "        model = whisper.load_model(\"base\")\n",
    "        result = model.transcribe(audio_path)\n",
    "\n",
    "        \n",
    "        options = {\n",
    "            \"max_line_width\": 100,\n",
    "            \"max_line_count\": 10000000000000000,\n",
    "            \"highlight_words\": False\n",
    "        }\n",
    "\n",
    "        \n",
    "        text_writer = get_writer(\"txt\", output_folder)\n",
    "        text_writer(result, audio_path, options)\n",
    "\n",
    "if __name__ == \"__main__\":\n",
    "    \n",
    "    current_directory = os.getcwd()\n",
    "    video_folder = current_directory  \n",
    "    output_folder = os.path.join(current_directory, 'nikhila_mp3')  \n",
    "\n",
    "   \n",
    "    os.makedirs(output_folder, exist_ok=True)\n",
    "\n",
    "    convert_videos_to_text(video_folder, output_folder)\n"
   ]
  },
  {
   "cell_type": "code",
   "execution_count": 22,
   "id": "2b6eaaa4-9897-4644-8a40-cc041ba00e01",
   "metadata": {},
   "outputs": [],
   "source": [
    "import os\n"
   ]
  },
  {
   "cell_type": "code",
   "execution_count": 23,
   "id": "9d667324-84ad-4ab4-a8b5-0176e0bf75c9",
   "metadata": {},
   "outputs": [
    {
     "data": {
      "text/plain": [
       "'/home/jupyteach-msda/jupyteach-ai/videos'"
      ]
     },
     "execution_count": 23,
     "metadata": {},
     "output_type": "execute_result"
    }
   ],
   "source": [
    "os.getcwd()"
   ]
  },
  {
   "cell_type": "code",
   "execution_count": 30,
   "id": "bdd138b7-1444-4dc9-85bf-00b541525b1e",
   "metadata": {},
   "outputs": [],
   "source": [
    "import os\n",
    "import whisper\n",
    "from whisper.utils import get_writer\n"
   ]
  },
  {
   "cell_type": "code",
   "execution_count": 34,
   "id": "54b620ed-ffb9-479c-b101-8aeb7a1e7228",
   "metadata": {
    "scrolled": true
   },
   "outputs": [
    {
     "ename": "TypeError",
     "evalue": "string indices must be integers, not 'str'",
     "output_type": "error",
     "traceback": [
      "\u001b[0;31m---------------------------------------------------------------------------\u001b[0m",
      "\u001b[0;31mTypeError\u001b[0m                                 Traceback (most recent call last)",
      "Cell \u001b[0;32mIn[34], line 40\u001b[0m\n\u001b[1;32m     36\u001b[0m output_folder \u001b[38;5;241m=\u001b[39m os\u001b[38;5;241m.\u001b[39mpath\u001b[38;5;241m.\u001b[39mjoin(current_directory, \u001b[38;5;124m'\u001b[39m\u001b[38;5;124mnikhila_srt\u001b[39m\u001b[38;5;124m'\u001b[39m)\n\u001b[1;32m     38\u001b[0m os\u001b[38;5;241m.\u001b[39mmakedirs(output_folder, exist_ok\u001b[38;5;241m=\u001b[39m\u001b[38;5;28;01mTrue\u001b[39;00m)\n\u001b[0;32m---> 40\u001b[0m \u001b[43mconvert_mp3_to_srt\u001b[49m\u001b[43m(\u001b[49m\u001b[43mmp3_folder\u001b[49m\u001b[43m,\u001b[49m\u001b[43m \u001b[49m\u001b[43moutput_folder\u001b[49m\u001b[43m)\u001b[49m\n",
      "Cell \u001b[0;32mIn[34], line 23\u001b[0m, in \u001b[0;36mconvert_mp3_to_srt\u001b[0;34m(mp3_folder, output_folder)\u001b[0m\n\u001b[1;32m     20\u001b[0m start_time \u001b[38;5;241m=\u001b[39m \u001b[38;5;241m0\u001b[39m  \u001b[38;5;66;03m# Initial start time for the subtitle\u001b[39;00m\n\u001b[1;32m     22\u001b[0m \u001b[38;5;28;01mfor\u001b[39;00m segment \u001b[38;5;129;01min\u001b[39;00m result:\n\u001b[0;32m---> 23\u001b[0m     text \u001b[38;5;241m=\u001b[39m \u001b[43msegment\u001b[49m\u001b[43m[\u001b[49m\u001b[38;5;124;43m'\u001b[39;49m\u001b[38;5;124;43mtext\u001b[39;49m\u001b[38;5;124;43m'\u001b[39;49m\u001b[43m]\u001b[49m\n\u001b[1;32m     24\u001b[0m     duration \u001b[38;5;241m=\u001b[39m segment[\u001b[38;5;124m'\u001b[39m\u001b[38;5;124mduration\u001b[39m\u001b[38;5;124m'\u001b[39m]\n\u001b[1;32m     25\u001b[0m     end_time \u001b[38;5;241m=\u001b[39m start_time \u001b[38;5;241m+\u001b[39m duration\n",
      "\u001b[0;31mTypeError\u001b[0m: string indices must be integers, not 'str'"
     ]
    }
   ],
   "source": [
    "import os\n",
    "import whisper\n",
    "\n",
    "def convert_mp3_to_srt(mp3_folder, output_folder):\n",
    "    file_names = os.listdir(mp3_folder)\n",
    "\n",
    "    mp3_file_names = [file for file in file_names if file.lower().endswith(('.mp3'))]\n",
    "\n",
    "    for mp3_file_name in mp3_file_names:\n",
    "        mp3_path = os.path.join(mp3_folder, mp3_file_name)\n",
    "        srt_file_name = os.path.splitext(mp3_file_name)[0] + \".srt\"\n",
    "        srt_path = os.path.join(output_folder, srt_file_name)\n",
    "\n",
    "        # Perform speech-to-text on the MP3 file\n",
    "        model = whisper.load_model(\"base\")\n",
    "        result = model.transcribe(mp3_path)\n",
    "\n",
    "        # Generate the SRT content\n",
    "        srt_content = \"\"\n",
    "        start_time = 0  # Initial start time for the subtitle\n",
    "\n",
    "        for segment in result:\n",
    "            text = segment['text']\n",
    "            duration = segment['duration']\n",
    "            end_time = start_time + duration\n",
    "            srt_content += f\"{int(start_time)} --> {int(end_time)}\\n{text}\\n\\n\"\n",
    "            start_time = end_time\n",
    "\n",
    "        # Save the SRT content to a file\n",
    "        with open(srt_path, 'w') as srt_file:\n",
    "            srt_file.write(srt_content)\n",
    "\n",
    "if __name__ == \"__main__\":\n",
    "    current_directory = os.getcwd()\n",
    "    mp3_folder = current_directory\n",
    "    output_folder = os.path.join(current_directory, 'nikhila_srt')\n",
    "\n",
    "    os.makedirs(output_folder, exist_ok=True)\n",
    "\n",
    "    convert_mp3_to_srt(mp3_folder, output_folder)\n"
   ]
  }
 ],
 "metadata": {
  "kernelspec": {
   "display_name": "Python (jupyteach)",
   "language": "python",
   "name": "jupyteach"
  },
  "language_info": {
   "codemirror_mode": {
    "name": "ipython",
    "version": 3
   },
   "file_extension": ".py",
   "mimetype": "text/x-python",
   "name": "python",
   "nbconvert_exporter": "python",
   "pygments_lexer": "ipython3",
   "version": "3.11.5"
  }
 },
 "nbformat": 4,
 "nbformat_minor": 5
}
