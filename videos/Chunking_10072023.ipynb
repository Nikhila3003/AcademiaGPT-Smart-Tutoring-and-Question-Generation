{
 "cells": [
  {
   "cell_type": "code",
   "execution_count": 1,
   "id": "d97d55fb-9a48-4537-b05d-b556e24a57e3",
   "metadata": {},
   "outputs": [],
   "source": [
    "#pip install pysrt"
   ]
  },
  {
   "cell_type": "code",
   "execution_count": 87,
   "id": "62dbb8b2-bdb4-40c3-8d6f-1fe7d86f702a",
   "metadata": {},
   "outputs": [],
   "source": [
    "import os\n",
    "from langchain.document_loaders import SRTLoader\n",
    "from langchain.text_splitter import RecursiveCharacterTextSplitter\n",
    "\n",
    "def chunk_srt_files_in_folder(folder_path, output_folder, chunk_size=200, chunk_overlap=20):\n",
    "    \n",
    "    # Create the output folder if it doesn't exist\n",
    "    os.makedirs(output_folder, exist_ok=True)\n",
    "\n",
    "    # List all SRT files in the input folder\n",
    "    srt_files = [f for f in os.listdir(folder_path) if f.endswith('.srt')]\n",
    "\n",
    "    for srt_file in srt_files:\n",
    "        # Construct the full file paths\n",
    "        input_file_path = os.path.join(folder_path, srt_file)\n",
    "        output_file_path = os.path.join(output_folder, srt_file)\n",
    "\n",
    "        # Load the SRT file using the SRTLoader\n",
    "        loader = SRTLoader(input_file_path)\n",
    "        docs = loader.load()\n",
    "\n",
    "        # Initialize the splitter\n",
    "        splitter = CharacterTextSplitter(separator=\"\", chunk_size=chunk_size, chunk_overlap=chunk_overlap)\n",
    "\n",
    "        chunks = []\n",
    "        for doc in docs:\n",
    "            # Extract the text content from the document as a string\n",
    "            text_content = str(doc)\n",
    "\n",
    "            for chunk in splitter.split_text(text_content):\n",
    "                chunks.append(chunk)\n",
    "\n",
    "        # Write the chunks to an output file\n",
    "        with open(output_file_path, 'w', encoding='utf-8') as output_file:\n",
    "            for chunk in chunks:\n",
    "                output_file.write(chunk)\n",
    "\n",
    "# Usage\n",
    "input_folder_path = 'transcripts_tiny'\n",
    "output_folder_path = 'chunked_transcripts'\n",
    "\n",
    "chunk_srt_files_in_folder(input_folder_path, output_folder_path)\n"
   ]
  },
  {
   "cell_type": "code",
   "execution_count": 87,
   "id": "fd9b6b8f-bf27-435c-96d3-c7a34cd39c42",
   "metadata": {},
   "outputs": [],
   "source": [
    "import os\n",
    "from langchain.document_loaders import SRTLoader\n",
    "from langchain.text_splitter import RecursiveCharacterTextSplitter\n",
    "\n",
    "def chunk_srt_files_in_folder(folder_path, output_folder, chunk_size=200, chunk_overlap=20):\n",
    "    \n",
    "    # Create the output folder if it doesn't exist\n",
    "    os.makedirs(output_folder, exist_ok=True)\n",
    "\n",
    "    # List all SRT files in the input folder\n",
    "    srt_files = [f for f in os.listdir(folder_path) if f.endswith('.srt')]\n",
    "\n",
    "    for srt_file in srt_files:\n",
    "        # Construct the full file paths\n",
    "        input_file_path = os.path.join(folder_path, srt_file)\n",
    "        output_file_path = os.path.join(output_folder, srt_file)\n",
    "\n",
    "        # Load the SRT file using the SRTLoader\n",
    "        loader = SRTLoader(input_file_path)\n",
    "        docs = loader.load()\n",
    "\n",
    "        # Initialize the splitter\n",
    "        splitter = CharacterTextSplitter(separator=\"\", chunk_size=chunk_size, chunk_overlap=chunk_overlap)\n",
    "\n",
    "        chunks = []\n",
    "        for doc in docs:\n",
    "            # Extract the text content from the document as a string\n",
    "            text_content = str(doc)\n",
    "\n",
    "            for chunk in splitter.split_text(text_content):\n",
    "                chunks.append(chunk)\n",
    "\n",
    "        # Write the chunks to an output file\n",
    "        with open(output_file_path, 'w', encoding='utf-8') as output_file:\n",
    "            for chunk in chunks:\n",
    "                output_file.write(chunk)\n",
    "\n",
    "# Usage\n",
    "input_folder_path = 'transcripts_tiny'\n",
    "output_folder_path = 'chunked_transcripts'\n",
    "\n",
    "chunk_srt_files_in_folder(input_folder_path, output_folder_path)\n"
   ]
  },
  {
   "cell_type": "code",
   "execution_count": 66,
   "id": "e51faf2d-0b8c-454f-81b5-af33cec0ec61",
   "metadata": {},
   "outputs": [],
   "source": []
  },
  {
   "cell_type": "code",
   "execution_count": null,
   "id": "ceeb6e91-94d9-44b9-9b50-ea6dbdf24091",
   "metadata": {},
   "outputs": [],
   "source": []
  },
  {
   "cell_type": "code",
   "execution_count": null,
   "id": "56449507-d97c-400e-aa8b-079165e1a293",
   "metadata": {},
   "outputs": [],
   "source": []
  },
  {
   "cell_type": "code",
   "execution_count": null,
   "id": "232b7e62-5d48-4769-823a-85d364b01742",
   "metadata": {},
   "outputs": [],
   "source": []
  },
  {
   "cell_type": "code",
   "execution_count": 84,
   "id": "b2951e68-c10b-4d62-90d1-43b9024ac4c3",
   "metadata": {},
   "outputs": [],
   "source": []
  },
  {
   "cell_type": "code",
   "execution_count": null,
   "id": "5daa1253-17c8-4b6a-bb96-0e113d8c78be",
   "metadata": {},
   "outputs": [],
   "source": [
    "\n"
   ]
  },
  {
   "cell_type": "code",
   "execution_count": null,
   "id": "69f83ac0-14cf-4529-b106-a7c52c8bd7d4",
   "metadata": {
    "scrolled": true
   },
   "outputs": [],
   "source": []
  },
  {
   "cell_type": "code",
   "execution_count": null,
   "id": "a1149812-2cb8-4aa1-a87e-89c62ec4cbda",
   "metadata": {},
   "outputs": [],
   "source": []
  },
  {
   "cell_type": "code",
   "execution_count": null,
   "id": "0b57a980-7b4b-46cd-b6b3-06fb16303235",
   "metadata": {},
   "outputs": [],
   "source": []
  },
  {
   "cell_type": "code",
   "execution_count": null,
   "id": "f3942a57-2915-4d89-9f28-4d4ceb3b946e",
   "metadata": {},
   "outputs": [],
   "source": []
  }
 ],
 "metadata": {
  "kernelspec": {
   "display_name": "Python (jupyteach)",
   "language": "python",
   "name": "jupyteach"
  },
  "language_info": {
   "codemirror_mode": {
    "name": "ipython",
    "version": 3
   },
   "file_extension": ".py",
   "mimetype": "text/x-python",
   "name": "python",
   "nbconvert_exporter": "python",
   "pygments_lexer": "ipython3",
   "version": "3.11.5"
  }
 },
 "nbformat": 4,
 "nbformat_minor": 5
}
