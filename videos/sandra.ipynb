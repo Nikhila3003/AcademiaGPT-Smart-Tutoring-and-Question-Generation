{
 "cells": [
  {
   "cell_type": "code",
   "execution_count": 5,
   "id": "92dad499-98c2-40d1-b0be-8c5eb62f301b",
   "metadata": {},
   "outputs": [],
   "source": [
    "import openai\n",
    "import whisper\n",
    "import moviepy"
   ]
  },
  {
   "cell_type": "code",
   "execution_count": 6,
   "id": "34f12b98-9084-4401-8fc9-d5b75179982e",
   "metadata": {},
   "outputs": [],
   "source": [
    "import moviepy.editor as mp"
   ]
  },
  {
   "cell_type": "code",
   "execution_count": 7,
   "id": "47b9f4d1-278d-4471-9ca4-e9fd95381278",
   "metadata": {},
   "outputs": [],
   "source": [
    "video= '2.9.1 Temporal Data In pandas.mp4'"
   ]
  },
  {
   "cell_type": "code",
   "execution_count": 8,
   "id": "a198c8f1-7c8c-4889-b05b-fbaac0e87e5f",
   "metadata": {},
   "outputs": [],
   "source": [
    "with open(video,'rb') as video_file:\n",
    "    video_data = video_file.read()"
   ]
  },
  {
   "cell_type": "code",
   "execution_count": 9,
   "id": "433ff053-d798-41e6-8368-0ed993894f0a",
   "metadata": {},
   "outputs": [],
   "source": [
    "import os"
   ]
  },
  {
   "cell_type": "code",
   "execution_count": 10,
   "id": "ac6b43a6-6f52-4ffe-8174-3654888b8af9",
   "metadata": {},
   "outputs": [],
   "source": [
    "clip = mp.VideoFileClip(\"./2.9.1 Temporal Data In pandas.mp4\")"
   ]
  },
  {
   "cell_type": "code",
   "execution_count": 11,
   "id": "831d62f0-9dce-4d6f-8195-cd7ebec8b20c",
   "metadata": {},
   "outputs": [
    {
     "data": {
      "text/plain": [
       "<moviepy.video.io.VideoFileClip.VideoFileClip at 0x7f80e5fde750>"
      ]
     },
     "execution_count": 11,
     "metadata": {},
     "output_type": "execute_result"
    }
   ],
   "source": [
    "clip"
   ]
  },
  {
   "cell_type": "code",
   "execution_count": 12,
   "id": "6c92a49c-62fb-4671-b1f7-9c824aed017a",
   "metadata": {},
   "outputs": [],
   "source": [
    "audio_file= clip.audio"
   ]
  },
  {
   "cell_type": "code",
   "execution_count": 13,
   "id": "0bf95f75-ca66-4352-aae4-3efee5dace60",
   "metadata": {},
   "outputs": [
    {
     "name": "stdout",
     "output_type": "stream",
     "text": [
      "MoviePy - Writing audio in ./2.9.1 Temporal Data In pandas.mp3\n"
     ]
    },
    {
     "name": "stderr",
     "output_type": "stream",
     "text": [
      "                                                                        "
     ]
    },
    {
     "name": "stdout",
     "output_type": "stream",
     "text": [
      "MoviePy - Done.\n"
     ]
    },
    {
     "name": "stderr",
     "output_type": "stream",
     "text": [
      "\r"
     ]
    }
   ],
   "source": [
    "audio_file.write_audiofile(\"./2.9.1 Temporal Data In pandas.mp3\")"
   ]
  },
  {
   "cell_type": "code",
   "execution_count": 290,
   "id": "f55fefcc-0a58-4759-b1b2-5347e190fbd5",
   "metadata": {},
   "outputs": [],
   "source": [
    "model = whisper.load_model(\"base\")"
   ]
  },
  {
   "cell_type": "code",
   "execution_count": 4,
   "id": "a879034b-27ae-43f1-bee0-c6337c08e18c",
   "metadata": {},
   "outputs": [
    {
     "data": {
      "text/plain": [
       "'/home/jupyteach-msda/jupyteach-ai/videos'"
      ]
     },
     "execution_count": 4,
     "metadata": {},
     "output_type": "execute_result"
    }
   ],
   "source": [
    "os.getcwd()"
   ]
  },
  {
   "cell_type": "code",
   "execution_count": 288,
   "id": "9fe709b4-1b6b-4d1c-9a46-90c37a0fe819",
   "metadata": {},
   "outputs": [],
   "source": [
    "os.mkdir('transcripts_base')"
   ]
  },
  {
   "cell_type": "code",
   "execution_count": null,
   "id": "5acf4b12-39ea-4e0c-8552-02a8894f337c",
   "metadata": {},
   "outputs": [],
   "source": [
    "result= model.transcribe(\"./2.10.3 Markov Chains 3 (3 of 4).mp3\")"
   ]
  },
  {
   "cell_type": "code",
   "execution_count": null,
   "id": "07d5e7b6-cd9f-458c-9931-275dfce903b7",
   "metadata": {},
   "outputs": [],
   "source": [
    "output_directory='transcripts_base'\n",
    "from whisper.utils import get_writer\n",
    "options = {\n",
    "        'max_line_width': None,\n",
    "        'max_line_count': None,\n",
    "        'highlight_words': False\n",
    "    }\n",
    "audio= \"2.10.3 Markov Chains 3 (3 of 4).mp3\"\n",
    "srt_writer = get_writer(\"srt\", output_directory)\n",
    "srt_writer(result, audio,options)\n",
    "\n",
    "\n"
   ]
  },
  {
   "cell_type": "code",
   "execution_count": null,
   "id": "26e4b9d5-756a-4221-8b54-cc285146f125",
   "metadata": {},
   "outputs": [],
   "source": []
  }
 ],
 "metadata": {
  "kernelspec": {
   "display_name": "Python (jupyteach)",
   "language": "python",
   "name": "jupyteach"
  },
  "language_info": {
   "codemirror_mode": {
    "name": "ipython",
    "version": 3
   },
   "file_extension": ".py",
   "mimetype": "text/x-python",
   "name": "python",
   "nbconvert_exporter": "python",
   "pygments_lexer": "ipython3",
   "version": "3.11.5"
  }
 },
 "nbformat": 4,
 "nbformat_minor": 5
}
