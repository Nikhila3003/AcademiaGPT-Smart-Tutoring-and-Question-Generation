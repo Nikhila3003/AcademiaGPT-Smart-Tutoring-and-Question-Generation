{
 "cells": [
  {
   "cell_type": "code",
   "execution_count": 1,
   "id": "b15cc28d-f1b0-4f22-a119-7e3fceec0b44",
   "metadata": {},
   "outputs": [],
   "source": [
    "import dotenv\n",
    "dotenv.load_dotenv();"
   ]
  },
  {
   "cell_type": "code",
   "execution_count": 10,
   "id": "557d147a-0031-4edb-a786-e72b78a3fd87",
   "metadata": {},
   "outputs": [
    {
     "data": {
      "text/plain": [
       "False"
      ]
     },
     "execution_count": 10,
     "metadata": {},
     "output_type": "execute_result"
    }
   ],
   "source": [
    "dotenv.load_dotenv(\"/home/jupyteach-msda/jupyteach-ai\")"
   ]
  },
  {
   "cell_type": "code",
   "execution_count": 21,
   "id": "b5a23d20-4a8a-4bbc-88cc-de132ade9fb2",
   "metadata": {
    "editable": true,
    "slideshow": {
     "slide_type": ""
    },
    "tags": []
   },
   "outputs": [],
   "source": [
    "from langchain.prompts import (\n",
    "    PromptTemplate,\n",
    "    ChatPromptTemplate,\n",
    "    HumanMessagePromptTemplate,\n",
    ")\n",
    "from langchain.llms import OpenAI\n",
    "from langchain.chat_models import ChatOpenAI\n",
    "from langchain.chains import LLMChain\n",
    "from langchain.callbacks import StdOutCallbackHandler\n",
    "from langchain.callbacks.base import BaseCallbackHandler\n",
    "\n",
    "from langchain.output_parsers import PydanticOutputParser\n",
    "from pydantic import BaseModel, Field, validator\n",
    "from typing import List\n",
    "import dotenv\n",
    "dotenv.load_dotenv();\n",
    "\n",
    "# import langchain\n",
    "# from langchain.cache import SQLiteCache\n",
    "# langchain.llm_cache = SQLiteCache(database_path=\".langchain.db\")"
   ]
  },
  {
   "cell_type": "code",
   "execution_count": 2,
   "id": "ac2c2387-4da1-4fdf-8c64-e0ab90cec93a",
   "metadata": {},
   "outputs": [],
   "source": [
    "from langchain.chat_models import ChatOpenAI\n",
    "from langchain.schema import SystemMessage\n",
    "from langchain.prompts import ChatPromptTemplate, HumanMessagePromptTemplate, MessagesPlaceholder\n",
    "from langchain.memory import ConversationBufferMemory\n",
    "\n",
    "system_prompt = \"\"\"You are a smart, helpful teaching assistant chatbot named Callisto.\n",
    "\n",
    "You assist professors that teach courses about Python and pandas to economics students. \n",
    "\n",
    "You have 5+ years of experience writing pandas code to do a variety of data analysis tasks. \n",
    "\n",
    "Your responses typically include examples of datasets or code snippets.\n",
    "\n",
    "For each message you will be given two inputs\n",
    "\n",
    "topic: string\n",
    "difficulty: integer\n",
    "\n",
    "Your task is to produce a multiple choice practice question to help students solidify their understanding of the given python and/or pandas topic\n",
    "\n",
    "The difficulty will be a number between 1 and 3, with 1 corresponding to a request for an easy question, and 3 for the most difficult question.\n",
    "\n",
    "The output should be formatted as a JSON instance that conforms to the JSON schema below.\n",
    "\n",
    "As an example, for the schema {\"properties\": {\"foo\": {\"title\": \"Foo\", \"description\": \"a list of strings\", \"type\": \"array\", \"items\": {\"type\": \"string\"}}}, \"required\": [\"foo\"]}}\n",
    "the object {\"foo\": [\"bar\", \"baz\"]} is a well-formatted instance of the schema. The object {\"properties\": {\"foo\": [\"bar\", \"baz\"]}} is not well-formatted.\n",
    "\n",
    "Here is the output schema:\n",
    "```\n",
    "{\"properties\": {\"question_text\": {\"title\": \"Question Text\", \"description\": \"The text of a question. Markdown formatted. Can include Python snippets for reference\", \"type\": \"string\"}, \"choices\": {\"title\": \"Choices\", \"description\": \"Set of possible answers to this question. Exactly one should be correct\", \"type\": \"array\", \"items\": {\"type\": \"string\"}}, \"correct_answer\": {\"title\": \"Correct Answer\", \"description\": \"Index of the correct choice\", \"type\": \"integer\"}}, \"required\": [\"question_text\", \"choices\", \"correct_answer\"]}\n",
    "```\n",
    "\n",
    "The question_text and choices can all be markdown strings, but must be placed inside the JSON object\n",
    "\n",
    "Occasionaly the user may ask you to do something like produce a similar question, or try again and make it more difficult, or produce 5 more on that topic. \n",
    "\n",
    "You should follow the user request, but make sure you always output in a consistent way.\n",
    "\n",
    "\"\"\"\n",
    "\n",
    "prompt = ChatPromptTemplate.from_messages([\n",
    "    SystemMessage(content=system_prompt), # The persistent system prompt \n",
    "    MessagesPlaceholder(variable_name=\"chat_history\"), # Where the memory will be stored.\n",
    "    HumanMessagePromptTemplate.from_template(\"{human_input}\"), # Where the human input will injectd\n",
    "])\n",
    "    \n",
    "memory = ConversationBufferMemory(memory_key=\"chat_history\", return_messages=True)\n",
    "\n",
    "class MultipleChoiceQuestion(BaseModel):\n",
    "    question_text: str = Field(description=\"The text of a question. Markdown formatted. Can include Python snippets for reference\")\n",
    "    choices: List[str] = Field(description=\"Set of possible answers to this question. Exactly one should be correct\")\n",
    "    correct_answer: int = Field(description=\"Index of the correct choice\")\n",
    "\n",
    "    def __repr__(self):\n",
    "        choices = \"- \" + \"\\n- \".join(self.choices)\n",
    "        return f\"\"\"{self.question_text}\\n\\n{choices}\\n\\n{self.correct_answer}\"\"\"\n",
    "\n",
    "\n",
    "multiple_choice_prompt_template = \"\"\"Produce a multiple choice pratice question to help the user solidify their understanding of {category}.\n",
    "\n",
    "The question should be rated at a difficulty level of {difficulty}/3, with 1 being the easiest and 3 being the hardest\n",
    "\n",
    "The question_text and choices can all be markdown strings, but must be placed inside the JSON object\n",
    "\n",
    "{format_instructions}\n",
    "\n",
    "The topic is: {topic}\n",
    "\"\"\"\n",
    "\n",
    "\n",
    "mcparser = PydanticOutputParser(pydantic_object=MultipleChoiceQuestion)\n",
    "mcprompt = PromptTemplate(\n",
    "    template=multiple_choice_prompt_template,\n",
    "    input_variables=[\"topic\", \"difficulty\", \"category\"],\n",
    "    partial_variables={\"format_instructions\": mcparser.get_format_instructions()},\n",
    ")"
   ]
  },
  {
   "cell_type": "markdown",
   "id": "4384d210-8521-4eb8-94d6-8f5dde74d121",
   "metadata": {},
   "source": [
    "## Chat Example"
   ]
  },
  {
   "cell_type": "code",
   "execution_count": 3,
   "id": "defc4372-c3c7-47e6-bfac-9b59c970aebf",
   "metadata": {},
   "outputs": [],
   "source": [
    "chat = ChatOpenAI()\n",
    "\n",
    "chat_llm_chain = LLMChain(\n",
    "    llm=chat,\n",
    "    prompt=prompt,\n",
    "    verbose=True,\n",
    "    memory=memory,\n",
    ")"
   ]
  },
  {
   "cell_type": "code",
   "execution_count": 4,
   "id": "ae3cd3ff-0976-4d3a-950b-f50729cb6c98",
   "metadata": {},
   "outputs": [
    {
     "name": "stdout",
     "output_type": "stream",
     "text": [
      "\n",
      "\n",
      "\u001b[1m> Entering new LLMChain chain...\u001b[0m\n",
      "Prompt after formatting:\n",
      "\u001b[32;1m\u001b[1;3mSystem: You are a smart, helpful teaching assistant chatbot named Callisto.\n",
      "\n",
      "You assist professors that teach courses about Python and pandas to economics students. \n",
      "\n",
      "You have 5+ years of experience writing pandas code to do a variety of data analysis tasks. \n",
      "\n",
      "Your responses typically include examples of datasets or code snippets.\n",
      "\n",
      "For each message you will be given two inputs\n",
      "\n",
      "topic: string\n",
      "difficulty: integer\n",
      "\n",
      "Your task is to produce a multiple choice practice question to help students solidify their understanding of the given python and/or pandas topic\n",
      "\n",
      "The difficulty will be a number between 1 and 3, with 1 corresponding to a request for an easy question, and 3 for the most difficult question.\n",
      "\n",
      "The output should be formatted as a JSON instance that conforms to the JSON schema below.\n",
      "\n",
      "As an example, for the schema {\"properties\": {\"foo\": {\"title\": \"Foo\", \"description\": \"a list of strings\", \"type\": \"array\", \"items\": {\"type\": \"string\"}}}, \"required\": [\"foo\"]}}\n",
      "the object {\"foo\": [\"bar\", \"baz\"]} is a well-formatted instance of the schema. The object {\"properties\": {\"foo\": [\"bar\", \"baz\"]}} is not well-formatted.\n",
      "\n",
      "Here is the output schema:\n",
      "```\n",
      "{\"properties\": {\"question_text\": {\"title\": \"Question Text\", \"description\": \"The text of a question. Markdown formatted. Can include Python snippets for reference\", \"type\": \"string\"}, \"choices\": {\"title\": \"Choices\", \"description\": \"Set of possible answers to this question. Exactly one should be correct\", \"type\": \"array\", \"items\": {\"type\": \"string\"}}, \"correct_answer\": {\"title\": \"Correct Answer\", \"description\": \"Index of the correct choice\", \"type\": \"integer\"}}, \"required\": [\"question_text\", \"choices\", \"correct_answer\"]}\n",
      "```\n",
      "\n",
      "The question_text and choices can all be markdown strings, but must be placed inside the JSON object\n",
      "\n",
      "Occasionaly the user may ask you to do something like produce a similar question, or try again and make it more difficult, or produce 5 more on that topic. \n",
      "\n",
      "You should follow the user request, but make sure you always output in a consistent way.\n",
      "\n",
      "\n",
      "Human: topic: using stack, unstack, set_index, and reset_index to produce tidy form data\n",
      "difficulty: 3\u001b[0m\n",
      "\n",
      "\u001b[1m> Finished chain.\u001b[0m\n"
     ]
    },
    {
     "data": {
      "text/plain": [
       "Which of the following methods can be used to transform a DataFrame into tidy form data?\n",
       "\n",
       "- stack\n",
       "- unstack\n",
       "- set_index\n",
       "- reset_index\n",
       "- all of the above\n",
       "\n",
       "4"
      ]
     },
     "execution_count": 4,
     "metadata": {},
     "output_type": "execute_result"
    }
   ],
   "source": [
    "x = chat_llm_chain.predict(human_input=\"topic: using stack, unstack, set_index, and reset_index to produce tidy form data\\ndifficulty: 3\")\n",
    "q = mcparser.parse(x)\n",
    "q"
   ]
  },
  {
   "cell_type": "code",
   "execution_count": 5,
   "id": "36e0069c-9ef4-4a1f-b3ac-38286cf385b5",
   "metadata": {},
   "outputs": [
    {
     "name": "stdout",
     "output_type": "stream",
     "text": [
      "\n",
      "\n",
      "\u001b[1m> Entering new LLMChain chain...\u001b[0m\n",
      "Prompt after formatting:\n",
      "\u001b[32;1m\u001b[1;3mSystem: You are a smart, helpful teaching assistant chatbot named Callisto.\n",
      "\n",
      "You assist professors that teach courses about Python and pandas to economics students. \n",
      "\n",
      "You have 5+ years of experience writing pandas code to do a variety of data analysis tasks. \n",
      "\n",
      "Your responses typically include examples of datasets or code snippets.\n",
      "\n",
      "For each message you will be given two inputs\n",
      "\n",
      "topic: string\n",
      "difficulty: integer\n",
      "\n",
      "Your task is to produce a multiple choice practice question to help students solidify their understanding of the given python and/or pandas topic\n",
      "\n",
      "The difficulty will be a number between 1 and 3, with 1 corresponding to a request for an easy question, and 3 for the most difficult question.\n",
      "\n",
      "The output should be formatted as a JSON instance that conforms to the JSON schema below.\n",
      "\n",
      "As an example, for the schema {\"properties\": {\"foo\": {\"title\": \"Foo\", \"description\": \"a list of strings\", \"type\": \"array\", \"items\": {\"type\": \"string\"}}}, \"required\": [\"foo\"]}}\n",
      "the object {\"foo\": [\"bar\", \"baz\"]} is a well-formatted instance of the schema. The object {\"properties\": {\"foo\": [\"bar\", \"baz\"]}} is not well-formatted.\n",
      "\n",
      "Here is the output schema:\n",
      "```\n",
      "{\"properties\": {\"question_text\": {\"title\": \"Question Text\", \"description\": \"The text of a question. Markdown formatted. Can include Python snippets for reference\", \"type\": \"string\"}, \"choices\": {\"title\": \"Choices\", \"description\": \"Set of possible answers to this question. Exactly one should be correct\", \"type\": \"array\", \"items\": {\"type\": \"string\"}}, \"correct_answer\": {\"title\": \"Correct Answer\", \"description\": \"Index of the correct choice\", \"type\": \"integer\"}}, \"required\": [\"question_text\", \"choices\", \"correct_answer\"]}\n",
      "```\n",
      "\n",
      "The question_text and choices can all be markdown strings, but must be placed inside the JSON object\n",
      "\n",
      "Occasionaly the user may ask you to do something like produce a similar question, or try again and make it more difficult, or produce 5 more on that topic. \n",
      "\n",
      "You should follow the user request, but make sure you always output in a consistent way.\n",
      "\n",
      "\n",
      "Human: topic: using stack, unstack, set_index, and reset_index to produce tidy form data\n",
      "difficulty: 3\n",
      "AI: {\"question_text\": \"Which of the following methods can be used to transform a DataFrame into tidy form data?\", \"choices\": [\"stack\", \"unstack\", \"set_index\", \"reset_index\", \"all of the above\"], \"correct_answer\": 4}\n",
      "Human: Great, please produce another question on the same topic\u001b[0m\n",
      "\n",
      "\u001b[1m> Finished chain.\u001b[0m\n"
     ]
    },
    {
     "data": {
      "text/plain": [
       "Which of the following methods can be used to transform tidy form data into a DataFrame?\n",
       "\n",
       "- stack\n",
       "- unstack\n",
       "- set_index\n",
       "- reset_index\n",
       "- none of the above\n",
       "\n",
       "4"
      ]
     },
     "execution_count": 5,
     "metadata": {},
     "output_type": "execute_result"
    }
   ],
   "source": [
    "x2 = chat_llm_chain.predict(human_input=\"Great, please produce another question on the same topic\")\n",
    "q2 = mcparser.parse(x2)\n",
    "q2"
   ]
  },
  {
   "cell_type": "code",
   "execution_count": 6,
   "id": "3b495ce6-c339-44b3-93fa-06e2b3cac67a",
   "metadata": {},
   "outputs": [
    {
     "name": "stdout",
     "output_type": "stream",
     "text": [
      "\n",
      "\n",
      "\u001b[1m> Entering new LLMChain chain...\u001b[0m\n",
      "Prompt after formatting:\n",
      "\u001b[32;1m\u001b[1;3mSystem: You are a smart, helpful teaching assistant chatbot named Callisto.\n",
      "\n",
      "You assist professors that teach courses about Python and pandas to economics students. \n",
      "\n",
      "You have 5+ years of experience writing pandas code to do a variety of data analysis tasks. \n",
      "\n",
      "Your responses typically include examples of datasets or code snippets.\n",
      "\n",
      "For each message you will be given two inputs\n",
      "\n",
      "topic: string\n",
      "difficulty: integer\n",
      "\n",
      "Your task is to produce a multiple choice practice question to help students solidify their understanding of the given python and/or pandas topic\n",
      "\n",
      "The difficulty will be a number between 1 and 3, with 1 corresponding to a request for an easy question, and 3 for the most difficult question.\n",
      "\n",
      "The output should be formatted as a JSON instance that conforms to the JSON schema below.\n",
      "\n",
      "As an example, for the schema {\"properties\": {\"foo\": {\"title\": \"Foo\", \"description\": \"a list of strings\", \"type\": \"array\", \"items\": {\"type\": \"string\"}}}, \"required\": [\"foo\"]}}\n",
      "the object {\"foo\": [\"bar\", \"baz\"]} is a well-formatted instance of the schema. The object {\"properties\": {\"foo\": [\"bar\", \"baz\"]}} is not well-formatted.\n",
      "\n",
      "Here is the output schema:\n",
      "```\n",
      "{\"properties\": {\"question_text\": {\"title\": \"Question Text\", \"description\": \"The text of a question. Markdown formatted. Can include Python snippets for reference\", \"type\": \"string\"}, \"choices\": {\"title\": \"Choices\", \"description\": \"Set of possible answers to this question. Exactly one should be correct\", \"type\": \"array\", \"items\": {\"type\": \"string\"}}, \"correct_answer\": {\"title\": \"Correct Answer\", \"description\": \"Index of the correct choice\", \"type\": \"integer\"}}, \"required\": [\"question_text\", \"choices\", \"correct_answer\"]}\n",
      "```\n",
      "\n",
      "The question_text and choices can all be markdown strings, but must be placed inside the JSON object\n",
      "\n",
      "Occasionaly the user may ask you to do something like produce a similar question, or try again and make it more difficult, or produce 5 more on that topic. \n",
      "\n",
      "You should follow the user request, but make sure you always output in a consistent way.\n",
      "\n",
      "\n",
      "Human: topic: using stack, unstack, set_index, and reset_index to produce tidy form data\n",
      "difficulty: 3\n",
      "AI: {\"question_text\": \"Which of the following methods can be used to transform a DataFrame into tidy form data?\", \"choices\": [\"stack\", \"unstack\", \"set_index\", \"reset_index\", \"all of the above\"], \"correct_answer\": 4}\n",
      "Human: Great, please produce another question on the same topic\n",
      "AI: {\"question_text\": \"Which of the following methods can be used to transform tidy form data into a DataFrame?\", \"choices\": [\"stack\", \"unstack\", \"set_index\", \"reset_index\", \"none of the above\"], \"correct_answer\": 4}\n",
      "Human: one more please. Add some variety\u001b[0m\n",
      "\n",
      "\u001b[1m> Finished chain.\u001b[0m\n"
     ]
    },
    {
     "data": {
      "text/plain": [
       "Which of the following methods can be used to transform a MultiIndex DataFrame into a single-level index DataFrame?\n",
       "\n",
       "- stack\n",
       "- unstack\n",
       "- set_index\n",
       "- reset_index\n",
       "- none of the above\n",
       "\n",
       "3"
      ]
     },
     "execution_count": 6,
     "metadata": {},
     "output_type": "execute_result"
    }
   ],
   "source": [
    "x3 = chat_llm_chain.predict(human_input=\"one more please. Add some variety\")\n",
    "q3 = mcparser.parse(x3)\n",
    "q3"
   ]
  },
  {
   "cell_type": "code",
   "execution_count": 7,
   "id": "fc4d35bf-106c-43ac-810e-0ba461a30a48",
   "metadata": {},
   "outputs": [
    {
     "name": "stdout",
     "output_type": "stream",
     "text": [
      "\n",
      "\n",
      "\u001b[1m> Entering new LLMChain chain...\u001b[0m\n",
      "Prompt after formatting:\n",
      "\u001b[32;1m\u001b[1;3mSystem: You are a smart, helpful teaching assistant chatbot named Callisto.\n",
      "\n",
      "You assist professors that teach courses about Python and pandas to economics students. \n",
      "\n",
      "You have 5+ years of experience writing pandas code to do a variety of data analysis tasks. \n",
      "\n",
      "Your responses typically include examples of datasets or code snippets.\n",
      "\n",
      "For each message you will be given two inputs\n",
      "\n",
      "topic: string\n",
      "difficulty: integer\n",
      "\n",
      "Your task is to produce a multiple choice practice question to help students solidify their understanding of the given python and/or pandas topic\n",
      "\n",
      "The difficulty will be a number between 1 and 3, with 1 corresponding to a request for an easy question, and 3 for the most difficult question.\n",
      "\n",
      "The output should be formatted as a JSON instance that conforms to the JSON schema below.\n",
      "\n",
      "As an example, for the schema {\"properties\": {\"foo\": {\"title\": \"Foo\", \"description\": \"a list of strings\", \"type\": \"array\", \"items\": {\"type\": \"string\"}}}, \"required\": [\"foo\"]}}\n",
      "the object {\"foo\": [\"bar\", \"baz\"]} is a well-formatted instance of the schema. The object {\"properties\": {\"foo\": [\"bar\", \"baz\"]}} is not well-formatted.\n",
      "\n",
      "Here is the output schema:\n",
      "```\n",
      "{\"properties\": {\"question_text\": {\"title\": \"Question Text\", \"description\": \"The text of a question. Markdown formatted. Can include Python snippets for reference\", \"type\": \"string\"}, \"choices\": {\"title\": \"Choices\", \"description\": \"Set of possible answers to this question. Exactly one should be correct\", \"type\": \"array\", \"items\": {\"type\": \"string\"}}, \"correct_answer\": {\"title\": \"Correct Answer\", \"description\": \"Index of the correct choice\", \"type\": \"integer\"}}, \"required\": [\"question_text\", \"choices\", \"correct_answer\"]}\n",
      "```\n",
      "\n",
      "The question_text and choices can all be markdown strings, but must be placed inside the JSON object\n",
      "\n",
      "Occasionaly the user may ask you to do something like produce a similar question, or try again and make it more difficult, or produce 5 more on that topic. \n",
      "\n",
      "You should follow the user request, but make sure you always output in a consistent way.\n",
      "\n",
      "\n",
      "Human: topic: using stack, unstack, set_index, and reset_index to produce tidy form data\n",
      "difficulty: 3\n",
      "AI: {\"question_text\": \"Which of the following methods can be used to transform a DataFrame into tidy form data?\", \"choices\": [\"stack\", \"unstack\", \"set_index\", \"reset_index\", \"all of the above\"], \"correct_answer\": 4}\n",
      "Human: Great, please produce another question on the same topic\n",
      "AI: {\"question_text\": \"Which of the following methods can be used to transform tidy form data into a DataFrame?\", \"choices\": [\"stack\", \"unstack\", \"set_index\", \"reset_index\", \"none of the above\"], \"correct_answer\": 4}\n",
      "Human: one more please. Add some variety\n",
      "AI: {\"question_text\": \"Which of the following methods can be used to transform a MultiIndex DataFrame into a single-level index DataFrame?\", \"choices\": [\"stack\", \"unstack\", \"set_index\", \"reset_index\", \"none of the above\"], \"correct_answer\": 3}\n",
      "Human: Great, one more with a code snippet as part of the question prompt\u001b[0m\n",
      "\n",
      "\u001b[1m> Finished chain.\u001b[0m\n"
     ]
    },
    {
     "data": {
      "text/plain": [
       "Consider the following DataFrame:\n",
       "\n",
       "```python\n",
       "data = {'Name': ['John', 'Alice', 'Bob', 'Emma'],\n",
       "        'Subject': ['Math', 'English', 'Science', 'History'],\n",
       "        'Score': [90, 85, 95, 80]}\n",
       "\n",
       "df = pd.DataFrame(data)\n",
       "```\n",
       "\n",
       "Which of the following methods can be used to transform the DataFrame `df` into tidy form data?\n",
       "\n",
       "- stack\n",
       "- unstack\n",
       "- set_index\n",
       "- reset_index\n",
       "- all of the above\n",
       "\n",
       "4"
      ]
     },
     "execution_count": 7,
     "metadata": {},
     "output_type": "execute_result"
    }
   ],
   "source": [
    "x4 = chat_llm_chain.predict(human_input=\"Great, one more with a code snippet as part of the question prompt\")\n",
    "q4 = mcparser.parse(x4)\n",
    "q4"
   ]
  },
  {
   "cell_type": "code",
   "execution_count": 8,
   "id": "aefea4b1-dfa0-481d-b223-881ba6c64fc4",
   "metadata": {},
   "outputs": [
    {
     "name": "stdout",
     "output_type": "stream",
     "text": [
      "\n",
      "\n",
      "\u001b[1m> Entering new LLMChain chain...\u001b[0m\n",
      "Prompt after formatting:\n",
      "\u001b[32;1m\u001b[1;3mSystem: You are a smart, helpful teaching assistant chatbot named Callisto.\n",
      "\n",
      "You assist professors that teach courses about Python and pandas to economics students. \n",
      "\n",
      "You have 5+ years of experience writing pandas code to do a variety of data analysis tasks. \n",
      "\n",
      "Your responses typically include examples of datasets or code snippets.\n",
      "\n",
      "For each message you will be given two inputs\n",
      "\n",
      "topic: string\n",
      "difficulty: integer\n",
      "\n",
      "Your task is to produce a multiple choice practice question to help students solidify their understanding of the given python and/or pandas topic\n",
      "\n",
      "The difficulty will be a number between 1 and 3, with 1 corresponding to a request for an easy question, and 3 for the most difficult question.\n",
      "\n",
      "The output should be formatted as a JSON instance that conforms to the JSON schema below.\n",
      "\n",
      "As an example, for the schema {\"properties\": {\"foo\": {\"title\": \"Foo\", \"description\": \"a list of strings\", \"type\": \"array\", \"items\": {\"type\": \"string\"}}}, \"required\": [\"foo\"]}}\n",
      "the object {\"foo\": [\"bar\", \"baz\"]} is a well-formatted instance of the schema. The object {\"properties\": {\"foo\": [\"bar\", \"baz\"]}} is not well-formatted.\n",
      "\n",
      "Here is the output schema:\n",
      "```\n",
      "{\"properties\": {\"question_text\": {\"title\": \"Question Text\", \"description\": \"The text of a question. Markdown formatted. Can include Python snippets for reference\", \"type\": \"string\"}, \"choices\": {\"title\": \"Choices\", \"description\": \"Set of possible answers to this question. Exactly one should be correct\", \"type\": \"array\", \"items\": {\"type\": \"string\"}}, \"correct_answer\": {\"title\": \"Correct Answer\", \"description\": \"Index of the correct choice\", \"type\": \"integer\"}}, \"required\": [\"question_text\", \"choices\", \"correct_answer\"]}\n",
      "```\n",
      "\n",
      "The question_text and choices can all be markdown strings, but must be placed inside the JSON object\n",
      "\n",
      "Occasionaly the user may ask you to do something like produce a similar question, or try again and make it more difficult, or produce 5 more on that topic. \n",
      "\n",
      "You should follow the user request, but make sure you always output in a consistent way.\n",
      "\n",
      "\n",
      "Human: topic: using stack, unstack, set_index, and reset_index to produce tidy form data\n",
      "difficulty: 3\n",
      "AI: {\"question_text\": \"Which of the following methods can be used to transform a DataFrame into tidy form data?\", \"choices\": [\"stack\", \"unstack\", \"set_index\", \"reset_index\", \"all of the above\"], \"correct_answer\": 4}\n",
      "Human: Great, please produce another question on the same topic\n",
      "AI: {\"question_text\": \"Which of the following methods can be used to transform tidy form data into a DataFrame?\", \"choices\": [\"stack\", \"unstack\", \"set_index\", \"reset_index\", \"none of the above\"], \"correct_answer\": 4}\n",
      "Human: one more please. Add some variety\n",
      "AI: {\"question_text\": \"Which of the following methods can be used to transform a MultiIndex DataFrame into a single-level index DataFrame?\", \"choices\": [\"stack\", \"unstack\", \"set_index\", \"reset_index\", \"none of the above\"], \"correct_answer\": 3}\n",
      "Human: Great, one more with a code snippet as part of the question prompt\n",
      "AI: {\"question_text\": \"Consider the following DataFrame:\\n\\n```python\\ndata = {'Name': ['John', 'Alice', 'Bob', 'Emma'],\\n        'Subject': ['Math', 'English', 'Science', 'History'],\\n        'Score': [90, 85, 95, 80]}\\n\\ndf = pd.DataFrame(data)\\n```\\n\\nWhich of the following methods can be used to transform the DataFrame `df` into tidy form data?\", \"choices\": [\"stack\", \"unstack\", \"set_index\", \"reset_index\", \"all of the above\"], \"correct_answer\": 4}\n",
      "Human: That's great, one more like that please\u001b[0m\n",
      "\n",
      "\u001b[1m> Finished chain.\u001b[0m\n"
     ]
    },
    {
     "data": {
      "text/plain": [
       "Consider the following DataFrame:\n",
       "\n",
       "```python\n",
       "data = {'Name': ['John', 'Alice', 'Bob', 'Emma'],\n",
       "        'Subject': ['Math', 'English', 'Science', 'History'],\n",
       "        'Score': [90, 85, 95, 80]}\n",
       "\n",
       "df = pd.DataFrame(data)\n",
       "```\n",
       "\n",
       "Which of the following methods can be used to transform the tidy form data into the original DataFrame `df`?\n",
       "\n",
       "- stack\n",
       "- unstack\n",
       "- set_index\n",
       "- reset_index\n",
       "- none of the above\n",
       "\n",
       "4"
      ]
     },
     "execution_count": 8,
     "metadata": {},
     "output_type": "execute_result"
    }
   ],
   "source": [
    "x5 = chat_llm_chain.predict(human_input=\"That's great, one more like that please\")\n",
    "q5 = mcparser.parse(x5)\n",
    "q5"
   ]
  },
  {
   "cell_type": "code",
   "execution_count": 9,
   "id": "b94a8c49-2267-491e-aea4-16d73648faac",
   "metadata": {},
   "outputs": [
    {
     "name": "stdout",
     "output_type": "stream",
     "text": [
      "\n",
      "\n",
      "\u001b[1m> Entering new LLMChain chain...\u001b[0m\n",
      "Prompt after formatting:\n",
      "\u001b[32;1m\u001b[1;3mSystem: You are a smart, helpful teaching assistant chatbot named Callisto.\n",
      "\n",
      "You assist professors that teach courses about Python and pandas to economics students. \n",
      "\n",
      "You have 5+ years of experience writing pandas code to do a variety of data analysis tasks. \n",
      "\n",
      "Your responses typically include examples of datasets or code snippets.\n",
      "\n",
      "For each message you will be given two inputs\n",
      "\n",
      "topic: string\n",
      "difficulty: integer\n",
      "\n",
      "Your task is to produce a multiple choice practice question to help students solidify their understanding of the given python and/or pandas topic\n",
      "\n",
      "The difficulty will be a number between 1 and 3, with 1 corresponding to a request for an easy question, and 3 for the most difficult question.\n",
      "\n",
      "The output should be formatted as a JSON instance that conforms to the JSON schema below.\n",
      "\n",
      "As an example, for the schema {\"properties\": {\"foo\": {\"title\": \"Foo\", \"description\": \"a list of strings\", \"type\": \"array\", \"items\": {\"type\": \"string\"}}}, \"required\": [\"foo\"]}}\n",
      "the object {\"foo\": [\"bar\", \"baz\"]} is a well-formatted instance of the schema. The object {\"properties\": {\"foo\": [\"bar\", \"baz\"]}} is not well-formatted.\n",
      "\n",
      "Here is the output schema:\n",
      "```\n",
      "{\"properties\": {\"question_text\": {\"title\": \"Question Text\", \"description\": \"The text of a question. Markdown formatted. Can include Python snippets for reference\", \"type\": \"string\"}, \"choices\": {\"title\": \"Choices\", \"description\": \"Set of possible answers to this question. Exactly one should be correct\", \"type\": \"array\", \"items\": {\"type\": \"string\"}}, \"correct_answer\": {\"title\": \"Correct Answer\", \"description\": \"Index of the correct choice\", \"type\": \"integer\"}}, \"required\": [\"question_text\", \"choices\", \"correct_answer\"]}\n",
      "```\n",
      "\n",
      "The question_text and choices can all be markdown strings, but must be placed inside the JSON object\n",
      "\n",
      "Occasionaly the user may ask you to do something like produce a similar question, or try again and make it more difficult, or produce 5 more on that topic. \n",
      "\n",
      "You should follow the user request, but make sure you always output in a consistent way.\n",
      "\n",
      "\n",
      "Human: topic: using stack, unstack, set_index, and reset_index to produce tidy form data\n",
      "difficulty: 3\n",
      "AI: {\"question_text\": \"Which of the following methods can be used to transform a DataFrame into tidy form data?\", \"choices\": [\"stack\", \"unstack\", \"set_index\", \"reset_index\", \"all of the above\"], \"correct_answer\": 4}\n",
      "Human: Great, please produce another question on the same topic\n",
      "AI: {\"question_text\": \"Which of the following methods can be used to transform tidy form data into a DataFrame?\", \"choices\": [\"stack\", \"unstack\", \"set_index\", \"reset_index\", \"none of the above\"], \"correct_answer\": 4}\n",
      "Human: one more please. Add some variety\n",
      "AI: {\"question_text\": \"Which of the following methods can be used to transform a MultiIndex DataFrame into a single-level index DataFrame?\", \"choices\": [\"stack\", \"unstack\", \"set_index\", \"reset_index\", \"none of the above\"], \"correct_answer\": 3}\n",
      "Human: Great, one more with a code snippet as part of the question prompt\n",
      "AI: {\"question_text\": \"Consider the following DataFrame:\\n\\n```python\\ndata = {'Name': ['John', 'Alice', 'Bob', 'Emma'],\\n        'Subject': ['Math', 'English', 'Science', 'History'],\\n        'Score': [90, 85, 95, 80]}\\n\\ndf = pd.DataFrame(data)\\n```\\n\\nWhich of the following methods can be used to transform the DataFrame `df` into tidy form data?\", \"choices\": [\"stack\", \"unstack\", \"set_index\", \"reset_index\", \"all of the above\"], \"correct_answer\": 4}\n",
      "Human: That's great, one more like that please\n",
      "AI: {\"question_text\": \"Consider the following DataFrame:\\n\\n```python\\ndata = {'Name': ['John', 'Alice', 'Bob', 'Emma'],\\n        'Subject': ['Math', 'English', 'Science', 'History'],\\n        'Score': [90, 85, 95, 80]}\\n\\ndf = pd.DataFrame(data)\\n```\\n\\nWhich of the following methods can be used to transform the tidy form data into the original DataFrame `df`?\", \"choices\": [\"stack\", \"unstack\", \"set_index\", \"reset_index\", \"none of the above\"], \"correct_answer\": 4}\n",
      "Human: Try that same question again, but don't use the word `unstack`. Instead talk about rotating row labels up to be column labels\u001b[0m\n",
      "\n",
      "\u001b[1m> Finished chain.\u001b[0m\n"
     ]
    },
    {
     "data": {
      "text/plain": [
       "Consider the following DataFrame:\n",
       "\n",
       "```python\n",
       "data = {'Name': ['John', 'Alice', 'Bob', 'Emma'],\n",
       "        'Subject': ['Math', 'English', 'Science', 'History'],\n",
       "        'Score': [90, 85, 95, 80]}\n",
       "\n",
       "df = pd.DataFrame(data)\n",
       "```\n",
       "\n",
       "Which of the following methods can be used to rotate the row labels up to be column labels in the DataFrame `df`?\n",
       "\n",
       "- stack\n",
       "- pivot\n",
       "- set_index\n",
       "- reset_index\n",
       "- none of the above\n",
       "\n",
       "1"
      ]
     },
     "execution_count": 9,
     "metadata": {},
     "output_type": "execute_result"
    }
   ],
   "source": [
    "x6 = chat_llm_chain.predict(human_input=\"Try that same question again, but don't use the word `unstack`. Instead talk about rotating row labels up to be column labels\")\n",
    "q6 = mcparser.parse(x6)\n",
    "q6"
   ]
  },
  {
   "cell_type": "code",
   "execution_count": 10,
   "id": "7be5b905-1cfe-46d4-86e2-750ec342569f",
   "metadata": {},
   "outputs": [
    {
     "name": "stdout",
     "output_type": "stream",
     "text": [
      "\n",
      "\n",
      "\u001b[1m> Entering new LLMChain chain...\u001b[0m\n",
      "Prompt after formatting:\n",
      "\u001b[32;1m\u001b[1;3mSystem: You are a smart, helpful teaching assistant chatbot named Callisto.\n",
      "\n",
      "You assist professors that teach courses about Python and pandas to economics students. \n",
      "\n",
      "You have 5+ years of experience writing pandas code to do a variety of data analysis tasks. \n",
      "\n",
      "Your responses typically include examples of datasets or code snippets.\n",
      "\n",
      "For each message you will be given two inputs\n",
      "\n",
      "topic: string\n",
      "difficulty: integer\n",
      "\n",
      "Your task is to produce a multiple choice practice question to help students solidify their understanding of the given python and/or pandas topic\n",
      "\n",
      "The difficulty will be a number between 1 and 3, with 1 corresponding to a request for an easy question, and 3 for the most difficult question.\n",
      "\n",
      "The output should be formatted as a JSON instance that conforms to the JSON schema below.\n",
      "\n",
      "As an example, for the schema {\"properties\": {\"foo\": {\"title\": \"Foo\", \"description\": \"a list of strings\", \"type\": \"array\", \"items\": {\"type\": \"string\"}}}, \"required\": [\"foo\"]}}\n",
      "the object {\"foo\": [\"bar\", \"baz\"]} is a well-formatted instance of the schema. The object {\"properties\": {\"foo\": [\"bar\", \"baz\"]}} is not well-formatted.\n",
      "\n",
      "Here is the output schema:\n",
      "```\n",
      "{\"properties\": {\"question_text\": {\"title\": \"Question Text\", \"description\": \"The text of a question. Markdown formatted. Can include Python snippets for reference\", \"type\": \"string\"}, \"choices\": {\"title\": \"Choices\", \"description\": \"Set of possible answers to this question. Exactly one should be correct\", \"type\": \"array\", \"items\": {\"type\": \"string\"}}, \"correct_answer\": {\"title\": \"Correct Answer\", \"description\": \"Index of the correct choice\", \"type\": \"integer\"}}, \"required\": [\"question_text\", \"choices\", \"correct_answer\"]}\n",
      "```\n",
      "\n",
      "The question_text and choices can all be markdown strings, but must be placed inside the JSON object\n",
      "\n",
      "Occasionaly the user may ask you to do something like produce a similar question, or try again and make it more difficult, or produce 5 more on that topic. \n",
      "\n",
      "You should follow the user request, but make sure you always output in a consistent way.\n",
      "\n",
      "\n",
      "Human: topic: using stack, unstack, set_index, and reset_index to produce tidy form data\n",
      "difficulty: 3\n",
      "AI: {\"question_text\": \"Which of the following methods can be used to transform a DataFrame into tidy form data?\", \"choices\": [\"stack\", \"unstack\", \"set_index\", \"reset_index\", \"all of the above\"], \"correct_answer\": 4}\n",
      "Human: Great, please produce another question on the same topic\n",
      "AI: {\"question_text\": \"Which of the following methods can be used to transform tidy form data into a DataFrame?\", \"choices\": [\"stack\", \"unstack\", \"set_index\", \"reset_index\", \"none of the above\"], \"correct_answer\": 4}\n",
      "Human: one more please. Add some variety\n",
      "AI: {\"question_text\": \"Which of the following methods can be used to transform a MultiIndex DataFrame into a single-level index DataFrame?\", \"choices\": [\"stack\", \"unstack\", \"set_index\", \"reset_index\", \"none of the above\"], \"correct_answer\": 3}\n",
      "Human: Great, one more with a code snippet as part of the question prompt\n",
      "AI: {\"question_text\": \"Consider the following DataFrame:\\n\\n```python\\ndata = {'Name': ['John', 'Alice', 'Bob', 'Emma'],\\n        'Subject': ['Math', 'English', 'Science', 'History'],\\n        'Score': [90, 85, 95, 80]}\\n\\ndf = pd.DataFrame(data)\\n```\\n\\nWhich of the following methods can be used to transform the DataFrame `df` into tidy form data?\", \"choices\": [\"stack\", \"unstack\", \"set_index\", \"reset_index\", \"all of the above\"], \"correct_answer\": 4}\n",
      "Human: That's great, one more like that please\n",
      "AI: {\"question_text\": \"Consider the following DataFrame:\\n\\n```python\\ndata = {'Name': ['John', 'Alice', 'Bob', 'Emma'],\\n        'Subject': ['Math', 'English', 'Science', 'History'],\\n        'Score': [90, 85, 95, 80]}\\n\\ndf = pd.DataFrame(data)\\n```\\n\\nWhich of the following methods can be used to transform the tidy form data into the original DataFrame `df`?\", \"choices\": [\"stack\", \"unstack\", \"set_index\", \"reset_index\", \"none of the above\"], \"correct_answer\": 4}\n",
      "Human: Try that same question again, but don't use the word `unstack`. Instead talk about rotating row labels up to be column labels\n",
      "AI: {\"question_text\": \"Consider the following DataFrame:\\n\\n```python\\ndata = {'Name': ['John', 'Alice', 'Bob', 'Emma'],\\n        'Subject': ['Math', 'English', 'Science', 'History'],\\n        'Score': [90, 85, 95, 80]}\\n\\ndf = pd.DataFrame(data)\\n```\\n\\nWhich of the following methods can be used to rotate the row labels up to be column labels in the DataFrame `df`?\", \"choices\": [\"stack\", \"pivot\", \"set_index\", \"reset_index\", \"none of the above\"], \"correct_answer\": 1}\n",
      "Human: topic: for loops\n",
      "category: python, control-flow\n",
      "difficulty: 3\u001b[0m\n",
      "\n",
      "\u001b[1m> Finished chain.\u001b[0m\n"
     ]
    },
    {
     "data": {
      "text/plain": [
       "Which of the following statements best describes a for loop in Python?\n",
       "\n",
       "- A for loop is used to iterate over a sequence (such as a list, tuple, or string) or other iterable object\n",
       "- A for loop is used to execute a block of code repeatedly based on a condition\n",
       "- A for loop is used to define a function in Python\n",
       "- A for loop is used to perform arithmetic operations in Python\n",
       "\n",
       "0"
      ]
     },
     "execution_count": 10,
     "metadata": {},
     "output_type": "execute_result"
    }
   ],
   "source": [
    "x7 = chat_llm_chain.predict(human_input=\"topic: for loops\\ncategory: python, control-flow\\ndifficulty: 3\")\n",
    "q7 = mcparser.parse(x7)\n",
    "q7"
   ]
  },
  {
   "cell_type": "code",
   "execution_count": 11,
   "id": "b2ec14de-8d99-48c9-9a14-d6a7bede8453",
   "metadata": {},
   "outputs": [
    {
     "name": "stdout",
     "output_type": "stream",
     "text": [
      "\n",
      "\n",
      "\u001b[1m> Entering new LLMChain chain...\u001b[0m\n",
      "Prompt after formatting:\n",
      "\u001b[32;1m\u001b[1;3mSystem: You are a smart, helpful teaching assistant chatbot named Callisto.\n",
      "\n",
      "You assist professors that teach courses about Python and pandas to economics students. \n",
      "\n",
      "You have 5+ years of experience writing pandas code to do a variety of data analysis tasks. \n",
      "\n",
      "Your responses typically include examples of datasets or code snippets.\n",
      "\n",
      "For each message you will be given two inputs\n",
      "\n",
      "topic: string\n",
      "difficulty: integer\n",
      "\n",
      "Your task is to produce a multiple choice practice question to help students solidify their understanding of the given python and/or pandas topic\n",
      "\n",
      "The difficulty will be a number between 1 and 3, with 1 corresponding to a request for an easy question, and 3 for the most difficult question.\n",
      "\n",
      "The output should be formatted as a JSON instance that conforms to the JSON schema below.\n",
      "\n",
      "As an example, for the schema {\"properties\": {\"foo\": {\"title\": \"Foo\", \"description\": \"a list of strings\", \"type\": \"array\", \"items\": {\"type\": \"string\"}}}, \"required\": [\"foo\"]}}\n",
      "the object {\"foo\": [\"bar\", \"baz\"]} is a well-formatted instance of the schema. The object {\"properties\": {\"foo\": [\"bar\", \"baz\"]}} is not well-formatted.\n",
      "\n",
      "Here is the output schema:\n",
      "```\n",
      "{\"properties\": {\"question_text\": {\"title\": \"Question Text\", \"description\": \"The text of a question. Markdown formatted. Can include Python snippets for reference\", \"type\": \"string\"}, \"choices\": {\"title\": \"Choices\", \"description\": \"Set of possible answers to this question. Exactly one should be correct\", \"type\": \"array\", \"items\": {\"type\": \"string\"}}, \"correct_answer\": {\"title\": \"Correct Answer\", \"description\": \"Index of the correct choice\", \"type\": \"integer\"}}, \"required\": [\"question_text\", \"choices\", \"correct_answer\"]}\n",
      "```\n",
      "\n",
      "The question_text and choices can all be markdown strings, but must be placed inside the JSON object\n",
      "\n",
      "Occasionaly the user may ask you to do something like produce a similar question, or try again and make it more difficult, or produce 5 more on that topic. \n",
      "\n",
      "You should follow the user request, but make sure you always output in a consistent way.\n",
      "\n",
      "\n",
      "Human: topic: using stack, unstack, set_index, and reset_index to produce tidy form data\n",
      "difficulty: 3\n",
      "AI: {\"question_text\": \"Which of the following methods can be used to transform a DataFrame into tidy form data?\", \"choices\": [\"stack\", \"unstack\", \"set_index\", \"reset_index\", \"all of the above\"], \"correct_answer\": 4}\n",
      "Human: Great, please produce another question on the same topic\n",
      "AI: {\"question_text\": \"Which of the following methods can be used to transform tidy form data into a DataFrame?\", \"choices\": [\"stack\", \"unstack\", \"set_index\", \"reset_index\", \"none of the above\"], \"correct_answer\": 4}\n",
      "Human: one more please. Add some variety\n",
      "AI: {\"question_text\": \"Which of the following methods can be used to transform a MultiIndex DataFrame into a single-level index DataFrame?\", \"choices\": [\"stack\", \"unstack\", \"set_index\", \"reset_index\", \"none of the above\"], \"correct_answer\": 3}\n",
      "Human: Great, one more with a code snippet as part of the question prompt\n",
      "AI: {\"question_text\": \"Consider the following DataFrame:\\n\\n```python\\ndata = {'Name': ['John', 'Alice', 'Bob', 'Emma'],\\n        'Subject': ['Math', 'English', 'Science', 'History'],\\n        'Score': [90, 85, 95, 80]}\\n\\ndf = pd.DataFrame(data)\\n```\\n\\nWhich of the following methods can be used to transform the DataFrame `df` into tidy form data?\", \"choices\": [\"stack\", \"unstack\", \"set_index\", \"reset_index\", \"all of the above\"], \"correct_answer\": 4}\n",
      "Human: That's great, one more like that please\n",
      "AI: {\"question_text\": \"Consider the following DataFrame:\\n\\n```python\\ndata = {'Name': ['John', 'Alice', 'Bob', 'Emma'],\\n        'Subject': ['Math', 'English', 'Science', 'History'],\\n        'Score': [90, 85, 95, 80]}\\n\\ndf = pd.DataFrame(data)\\n```\\n\\nWhich of the following methods can be used to transform the tidy form data into the original DataFrame `df`?\", \"choices\": [\"stack\", \"unstack\", \"set_index\", \"reset_index\", \"none of the above\"], \"correct_answer\": 4}\n",
      "Human: Try that same question again, but don't use the word `unstack`. Instead talk about rotating row labels up to be column labels\n",
      "AI: {\"question_text\": \"Consider the following DataFrame:\\n\\n```python\\ndata = {'Name': ['John', 'Alice', 'Bob', 'Emma'],\\n        'Subject': ['Math', 'English', 'Science', 'History'],\\n        'Score': [90, 85, 95, 80]}\\n\\ndf = pd.DataFrame(data)\\n```\\n\\nWhich of the following methods can be used to rotate the row labels up to be column labels in the DataFrame `df`?\", \"choices\": [\"stack\", \"pivot\", \"set_index\", \"reset_index\", \"none of the above\"], \"correct_answer\": 1}\n",
      "Human: topic: for loops\n",
      "category: python, control-flow\n",
      "difficulty: 3\n",
      "AI: {\"question_text\": \"Which of the following statements best describes a for loop in Python?\", \"choices\": [\"A for loop is used to iterate over a sequence (such as a list, tuple, or string) or other iterable object\", \"A for loop is used to execute a block of code repeatedly based on a condition\", \"A for loop is used to define a function in Python\", \"A for loop is used to perform arithmetic operations in Python\"], \"correct_answer\": 0}\n",
      "Human: That's great, one more like that please\u001b[0m\n",
      "\n",
      "\u001b[1m> Finished chain.\u001b[0m\n"
     ]
    },
    {
     "data": {
      "text/plain": [
       "Which of the following is the correct syntax for a for loop in Python?\n",
       "\n",
       "- for i in range(10):\n",
       "- for i in range(1, 10, 2):\n",
       "- for i in [1, 2, 3, 4]:\n",
       "- for i in 'hello':\n",
       "\n",
       "2"
      ]
     },
     "execution_count": 11,
     "metadata": {},
     "output_type": "execute_result"
    }
   ],
   "source": [
    "x8 = chat_llm_chain.predict(human_input=\"That's great, one more like that please\")\n",
    "q8 = mcparser.parse(x8)\n",
    "q8"
   ]
  },
  {
   "cell_type": "code",
   "execution_count": 12,
   "id": "d86967ec-2c9d-4254-b749-a95627353c90",
   "metadata": {},
   "outputs": [
    {
     "name": "stdout",
     "output_type": "stream",
     "text": [
      "\n",
      "\n",
      "\u001b[1m> Entering new LLMChain chain...\u001b[0m\n",
      "Prompt after formatting:\n",
      "\u001b[32;1m\u001b[1;3mSystem: You are a smart, helpful teaching assistant chatbot named Callisto.\n",
      "\n",
      "You assist professors that teach courses about Python and pandas to economics students. \n",
      "\n",
      "You have 5+ years of experience writing pandas code to do a variety of data analysis tasks. \n",
      "\n",
      "Your responses typically include examples of datasets or code snippets.\n",
      "\n",
      "For each message you will be given two inputs\n",
      "\n",
      "topic: string\n",
      "difficulty: integer\n",
      "\n",
      "Your task is to produce a multiple choice practice question to help students solidify their understanding of the given python and/or pandas topic\n",
      "\n",
      "The difficulty will be a number between 1 and 3, with 1 corresponding to a request for an easy question, and 3 for the most difficult question.\n",
      "\n",
      "The output should be formatted as a JSON instance that conforms to the JSON schema below.\n",
      "\n",
      "As an example, for the schema {\"properties\": {\"foo\": {\"title\": \"Foo\", \"description\": \"a list of strings\", \"type\": \"array\", \"items\": {\"type\": \"string\"}}}, \"required\": [\"foo\"]}}\n",
      "the object {\"foo\": [\"bar\", \"baz\"]} is a well-formatted instance of the schema. The object {\"properties\": {\"foo\": [\"bar\", \"baz\"]}} is not well-formatted.\n",
      "\n",
      "Here is the output schema:\n",
      "```\n",
      "{\"properties\": {\"question_text\": {\"title\": \"Question Text\", \"description\": \"The text of a question. Markdown formatted. Can include Python snippets for reference\", \"type\": \"string\"}, \"choices\": {\"title\": \"Choices\", \"description\": \"Set of possible answers to this question. Exactly one should be correct\", \"type\": \"array\", \"items\": {\"type\": \"string\"}}, \"correct_answer\": {\"title\": \"Correct Answer\", \"description\": \"Index of the correct choice\", \"type\": \"integer\"}}, \"required\": [\"question_text\", \"choices\", \"correct_answer\"]}\n",
      "```\n",
      "\n",
      "The question_text and choices can all be markdown strings, but must be placed inside the JSON object\n",
      "\n",
      "Occasionaly the user may ask you to do something like produce a similar question, or try again and make it more difficult, or produce 5 more on that topic. \n",
      "\n",
      "You should follow the user request, but make sure you always output in a consistent way.\n",
      "\n",
      "\n",
      "Human: topic: using stack, unstack, set_index, and reset_index to produce tidy form data\n",
      "difficulty: 3\n",
      "AI: {\"question_text\": \"Which of the following methods can be used to transform a DataFrame into tidy form data?\", \"choices\": [\"stack\", \"unstack\", \"set_index\", \"reset_index\", \"all of the above\"], \"correct_answer\": 4}\n",
      "Human: Great, please produce another question on the same topic\n",
      "AI: {\"question_text\": \"Which of the following methods can be used to transform tidy form data into a DataFrame?\", \"choices\": [\"stack\", \"unstack\", \"set_index\", \"reset_index\", \"none of the above\"], \"correct_answer\": 4}\n",
      "Human: one more please. Add some variety\n",
      "AI: {\"question_text\": \"Which of the following methods can be used to transform a MultiIndex DataFrame into a single-level index DataFrame?\", \"choices\": [\"stack\", \"unstack\", \"set_index\", \"reset_index\", \"none of the above\"], \"correct_answer\": 3}\n",
      "Human: Great, one more with a code snippet as part of the question prompt\n",
      "AI: {\"question_text\": \"Consider the following DataFrame:\\n\\n```python\\ndata = {'Name': ['John', 'Alice', 'Bob', 'Emma'],\\n        'Subject': ['Math', 'English', 'Science', 'History'],\\n        'Score': [90, 85, 95, 80]}\\n\\ndf = pd.DataFrame(data)\\n```\\n\\nWhich of the following methods can be used to transform the DataFrame `df` into tidy form data?\", \"choices\": [\"stack\", \"unstack\", \"set_index\", \"reset_index\", \"all of the above\"], \"correct_answer\": 4}\n",
      "Human: That's great, one more like that please\n",
      "AI: {\"question_text\": \"Consider the following DataFrame:\\n\\n```python\\ndata = {'Name': ['John', 'Alice', 'Bob', 'Emma'],\\n        'Subject': ['Math', 'English', 'Science', 'History'],\\n        'Score': [90, 85, 95, 80]}\\n\\ndf = pd.DataFrame(data)\\n```\\n\\nWhich of the following methods can be used to transform the tidy form data into the original DataFrame `df`?\", \"choices\": [\"stack\", \"unstack\", \"set_index\", \"reset_index\", \"none of the above\"], \"correct_answer\": 4}\n",
      "Human: Try that same question again, but don't use the word `unstack`. Instead talk about rotating row labels up to be column labels\n",
      "AI: {\"question_text\": \"Consider the following DataFrame:\\n\\n```python\\ndata = {'Name': ['John', 'Alice', 'Bob', 'Emma'],\\n        'Subject': ['Math', 'English', 'Science', 'History'],\\n        'Score': [90, 85, 95, 80]}\\n\\ndf = pd.DataFrame(data)\\n```\\n\\nWhich of the following methods can be used to rotate the row labels up to be column labels in the DataFrame `df`?\", \"choices\": [\"stack\", \"pivot\", \"set_index\", \"reset_index\", \"none of the above\"], \"correct_answer\": 1}\n",
      "Human: topic: for loops\n",
      "category: python, control-flow\n",
      "difficulty: 3\n",
      "AI: {\"question_text\": \"Which of the following statements best describes a for loop in Python?\", \"choices\": [\"A for loop is used to iterate over a sequence (such as a list, tuple, or string) or other iterable object\", \"A for loop is used to execute a block of code repeatedly based on a condition\", \"A for loop is used to define a function in Python\", \"A for loop is used to perform arithmetic operations in Python\"], \"correct_answer\": 0}\n",
      "Human: That's great, one more like that please\n",
      "AI: {\"question_text\": \"Which of the following is the correct syntax for a for loop in Python?\", \"choices\": [\"for i in range(10):\", \"for i in range(1, 10, 2):\", \"for i in [1, 2, 3, 4]:\", \"for i in 'hello':\"], \"correct_answer\": 2}\n",
      "Human: Let's ask another one on the same topic, but require them to reason about how loop can be used to update variables\u001b[0m\n",
      "\n",
      "\u001b[1m> Finished chain.\u001b[0m\n"
     ]
    },
    {
     "data": {
      "text/plain": [
       "Consider the following code snippet:\n",
       "\n",
       "```python\n",
       "numbers = [1, 2, 3, 4, 5]\n",
       "result = 0\n",
       "\n",
       "for num in numbers:\n",
       "    result += num\n",
       "\n",
       "print(result)\n",
       "```\n",
       "\n",
       "What is the value of `result` after executing this code?\n",
       "\n",
       "- 0\n",
       "- 1\n",
       "- 5\n",
       "- 15\n",
       "- 25\n",
       "\n",
       "3"
      ]
     },
     "execution_count": 12,
     "metadata": {},
     "output_type": "execute_result"
    }
   ],
   "source": [
    "x9 = chat_llm_chain.predict(human_input=\"Let's ask another one on the same topic, but require them to reason about how loop can be used to update variables\")\n",
    "q9 = mcparser.parse(x9)\n",
    "q9"
   ]
  },
  {
   "cell_type": "markdown",
   "id": "722379a5-a5dc-4dad-975b-233d5521f174",
   "metadata": {},
   "source": [
    "## Single Question example"
   ]
  },
  {
   "cell_type": "code",
   "execution_count": 13,
   "id": "0226e3d2-8892-4254-9a00-e015be3acaff",
   "metadata": {
    "editable": true,
    "slideshow": {
     "slide_type": ""
    },
    "tags": []
   },
   "outputs": [],
   "source": [
    "class QuestionGenerator:\n",
    "\n",
    "    def __init__(self, model=None):\n",
    "        # TODO: set up sqlite based history\n",
    "        # TODO: make it a chat model so we can ask for follow up questions\n",
    "        # TODO: prep for MultipleSelection and code type questions\n",
    "        # TODO: possibly provide some examples jupyteach question database\n",
    "        if model is None:\n",
    "            model_name = \"text-davinci-003\"\n",
    "            temperature = 0.8\n",
    "            self.model = OpenAI(model_name=model_name, temperature=temperature)\n",
    "        else:\n",
    "            self.model = model\n",
    "\n",
    "        self.mcparser = PydanticOutputParser(pydantic_object=MultipleChoiceQuestion)\n",
    "        self.mcprompt = PromptTemplate(\n",
    "            template=multiple_choice_prompt_template,\n",
    "            input_variables=[\"topic\", \"difficulty\", \"category\"],\n",
    "            partial_variables={\"format_instructions\": self.mcparser.get_format_instructions()},\n",
    "        )\n",
    "        self.mcchain = LLMChain(\n",
    "            llm=self.model,\n",
    "            prompt=self.mcprompt,\n",
    "            output_parser=self.mcparser,\n",
    "        )\n",
    "\n",
    "    def multiple_choice_writer(self, topic: str, category: str=\"python programming\", difficulty: int=2):\n",
    "        assert difficulty > 0 and difficulty < 4        \n",
    "        return self.mcchain.run(topic=topic, category=category, difficulty=difficulty)\n",
    "\n",
    "    def many_multiple_choice(self, topic: str, category: str=\"python programming\", difficulty: int=2, N:int =10):\n",
    "        res = self.mcchain.generate([dict(topic=topic, category=category, difficulty=difficulty)]*10)\n",
    "        qs = [self.mcparser.parse(x[0].text) for x in res.generations]\n",
    "        return qs"
   ]
  },
  {
   "cell_type": "code",
   "execution_count": 14,
   "id": "9e846b0b-72d9-4c8a-9975-2f8110627b74",
   "metadata": {
    "editable": true,
    "slideshow": {
     "slide_type": ""
    },
    "tags": []
   },
   "outputs": [],
   "source": [
    "g = QuestionGenerator()"
   ]
  },
  {
   "cell_type": "code",
   "execution_count": 15,
   "id": "d52acbdf-47bc-4b45-b033-24eaa1f13142",
   "metadata": {},
   "outputs": [],
   "source": [
    "g.multiple_choice_writer(topic=\"groupby operations\", category=\"the python pandas library\", difficulty=3);"
   ]
  },
  {
   "cell_type": "code",
   "execution_count": 17,
   "id": "1a1b8701-7d35-4994-9547-bca85bd317a8",
   "metadata": {
    "editable": true,
    "slideshow": {
     "slide_type": ""
    },
    "tags": []
   },
   "outputs": [],
   "source": [
    "q = g.multiple_choice_writer(\"DataFrame string methods and data cleaning\", \"python/pandas\", 1)"
   ]
  },
  {
   "cell_type": "code",
   "execution_count": 18,
   "id": "8fcfb43a-c194-4f22-bd9d-4359d7d1fd81",
   "metadata": {
    "editable": true,
    "slideshow": {
     "slide_type": ""
    },
    "tags": []
   },
   "outputs": [
    {
     "data": {
      "text/plain": [
       "What is the best option for cleaning strings in a Pandas DataFrame?\n",
       "\n",
       "- Use the `.strip()` method\n",
       "- Use the `.replace()` method\n",
       "- Use the `.lower()` method\n",
       "- Use the `.upper()` method\n",
       "\n",
       "0"
      ]
     },
     "execution_count": 18,
     "metadata": {},
     "output_type": "execute_result"
    }
   ],
   "source": [
    "q"
   ]
  },
  {
   "cell_type": "code",
   "execution_count": 19,
   "id": "d233b347-e0e4-4b75-9352-ed56de883580",
   "metadata": {},
   "outputs": [],
   "source": [
    "q = g.multiple_choice_writer(\"for loops\", \"python control-flow\", 3)"
   ]
  },
  {
   "cell_type": "code",
   "execution_count": 20,
   "id": "8f719acf-daff-41bc-b068-923ae91e28e3",
   "metadata": {},
   "outputs": [
    {
     "name": "stdout",
     "output_type": "stream",
     "text": [
      "What is the most common way to structure a for loop in Python?\n"
     ]
    }
   ],
   "source": [
    "print(q.question_text)"
   ]
  },
  {
   "cell_type": "code",
   "execution_count": null,
   "id": "75fcf7be-4293-48ab-a5b5-4d72ec74c910",
   "metadata": {},
   "outputs": [],
   "source": []
  }
 ],
 "metadata": {
  "kernelspec": {
   "display_name": "Python (jupyteach)",
   "language": "python",
   "name": "jupyteach"
  },
  "language_info": {
   "codemirror_mode": {
    "name": "ipython",
    "version": 3
   },
   "file_extension": ".py",
   "mimetype": "text/x-python",
   "name": "python",
   "nbconvert_exporter": "python",
   "pygments_lexer": "ipython3",
   "version": "3.11.5"
  }
 },
 "nbformat": 4,
 "nbformat_minor": 5
}
