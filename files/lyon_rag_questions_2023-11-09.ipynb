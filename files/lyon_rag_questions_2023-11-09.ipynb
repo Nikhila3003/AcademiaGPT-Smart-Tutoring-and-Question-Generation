{
 "cells": [
  {
   "cell_type": "code",
   "execution_count": 1,
   "id": "f4d7cb8d-9daf-4a9a-b86e-ce57bc54e36d",
   "metadata": {},
   "outputs": [],
   "source": [
    "import textwrap\n",
    "from lyon_common import create_chain\n",
    "from question_generator_model import SingleSelection, Code, ManySingleSelections\n",
    "from langchain.output_parsers import PydanticOutputParser"
   ]
  },
  {
   "cell_type": "code",
   "execution_count": 2,
   "id": "a3f0f78c-b21b-4892-a02d-a587cae2609b",
   "metadata": {},
   "outputs": [],
   "source": [
    "def create_system_prompt(pydantic_object):\n",
    "    common_system_prompt = textwrap.dedent(\"\"\"\n",
    "    You are a smart, helpful teaching assistant chatbot named Callisto.\n",
    "\n",
    "    You are an expert Python programmer and have used all the most popular\n",
    "    libraries for data analysis, machine learning, and artificial intelligence.\n",
    "\n",
    "    You assist professors that teach courses about Python, data science, and machine learning\n",
    "    to graduate students.\n",
    "\n",
    "    Your task is to help professors produce practice questions to help students solidify \n",
    "    their understanding of specific topics\n",
    "\n",
    "    In your conversations with a professor you will be given a topic (string) and an\n",
    "    expected difficulty level (integer)\n",
    "    \n",
    "    The difficulty will be a number between 1 and 3, with 1 corresponding to a request \n",
    "    for an easy question, and 3 for the most difficult question.\n",
    "    \n",
    "    If the professor asks you for another question and does not specify either a new topic \n",
    "    or a new difficulty, you must use the previous topic or difficulty.\n",
    "\n",
    "    You are encouraged to use any tools available to look up relevant information, only\n",
    "    if necessary.\n",
    "\n",
    "    Your responses must always exactly match the specified format with no extra words or content.\n",
    "    \n",
    "    {format_instructions}\n",
    "    \"\"\")\n",
    "\n",
    "    parser = PydanticOutputParser(pydantic_object=pydantic_object)\n",
    "    return common_system_prompt.format(format_instructions=parser.get_format_instructions())\n",
    "    "
   ]
  },
  {
   "cell_type": "code",
   "execution_count": 7,
   "id": "71bf88cc-ae7e-42e8-8fac-28b3dc83a7d9",
   "metadata": {},
   "outputs": [],
   "source": [
    "chat = create_chain(create_system_prompt(ManySingleSelections), temperature=0.1)"
   ]
  },
  {
   "cell_type": "code",
   "execution_count": null,
   "id": "a649e8bc-616a-42d4-9c09-7bd92d3659d9",
   "metadata": {},
   "outputs": [],
   "source": []
  },
  {
   "cell_type": "code",
   "execution_count": 8,
   "id": "ca0082d9-a64d-4a80-bee4-fddd983f116a",
   "metadata": {},
   "outputs": [],
   "source": [
    "def generate_and_parse_question(rag_chain, query, pydantic_model):\n",
    "    reponse = rag_chain(query)\n",
    "    return pydantic_model.parse(response)\n",
    "    "
   ]
  },
  {
   "cell_type": "code",
   "execution_count": 9,
   "id": "6b102c9d-ac78-49dc-8f76-783de9e22e10",
   "metadata": {},
   "outputs": [],
   "source": [
    "res = chat({\"input\": \"topic: DataFrame.set_index\\ndifficulty: 2\\nplease produce 4 questions\"})"
   ]
  },
  {
   "cell_type": "code",
   "execution_count": 10,
   "id": "e3c75c56-0d88-496d-a07b-11f912557a86",
   "metadata": {},
   "outputs": [
    {
     "name": "stdout",
     "output_type": "stream",
     "text": [
      "{\n",
      "  \"questions\": [\n",
      "    {\n",
      "      \"question_text\": \"What is the purpose of the index in pandas?\",\n",
      "      \"difficulty\": 2,\n",
      "      \"topics\": [\n",
      "        \"DataFrame.set_index\",\n",
      "        \"pandas\",\n",
      "        \"indexing\"\n",
      "      ],\n",
      "      \"choices\": [\n",
      "        \"The index in pandas is only used for labeling the rows\",\n",
      "        \"The index in pandas is used for data alignment and ensuring proper alignment of data\",\n",
      "        \"The index in pandas is used for aggregating data\"\n",
      "      ],\n",
      "      \"solution\": 1\n",
      "    },\n",
      "    {\n",
      "      \"question_text\": \"What happens when the reset_index method is called without any arguments?\",\n",
      "      \"difficulty\": 2,\n",
      "      \"topics\": [\n",
      "        \"DataFrame.set_index\",\n",
      "        \"pandas\",\n",
      "        \"indexing\"\n",
      "      ],\n",
      "      \"choices\": [\n",
      "        \"The index is reset to go from zero to the total number of rows in the data frame\",\n",
      "        \"The columns that were previously used for the index are returned back to be columns alongside the existing ones\",\n",
      "        \"The data alignment is broken and the index is reset to a default range index\"\n",
      "      ],\n",
      "      \"solution\": 0\n",
      "    },\n",
      "    {\n",
      "      \"question_text\": \"How can the set_index method be used to change the index of a DataFrame?\",\n",
      "      \"difficulty\": 2,\n",
      "      \"topics\": [\n",
      "        \"DataFrame.set_index\",\n",
      "        \"pandas\",\n",
      "        \"indexing\"\n",
      "      ],\n",
      "      \"choices\": [\n",
      "        \"The set_index method is used to reset the index to a default range index\",\n",
      "        \"The set_index method is used to align entries based on certain properties or columns of the data\",\n",
      "        \"The set_index method is used to aggregate data\"\n",
      "      ],\n",
      "      \"solution\": 1\n",
      "    },\n",
      "    {\n",
      "      \"question_text\": \"What is the main goal of setting and resetting the index in pandas?\",\n",
      "      \"difficulty\": 2,\n",
      "      \"topics\": [\n",
      "        \"DataFrame.set_index\",\n",
      "        \"pandas\",\n",
      "        \"indexing\"\n",
      "      ],\n",
      "      \"choices\": [\n",
      "        \"The main goal is to aggregate data for analysis\",\n",
      "        \"The main goal is to ensure proper alignment of data and make data operations easier\",\n",
      "        \"The main goal is to label the rows in the data frame\"\n",
      "      ],\n",
      "      \"solution\": 1\n",
      "    }\n",
      "  ]\n",
      "}\n",
      "{\n",
      "  \"questions\": [\n",
      "    {\n",
      "      \"question_text\": \"What is the purpose of the index in pandas?\",\n",
      "      \"difficulty\": 2,\n",
      "      \"topics\": [\n",
      "        \"DataFrame.set_index\",\n",
      "        \"pandas\",\n",
      "        \"indexing\"\n",
      "      ],\n",
      "      \"choices\": [\n",
      "        \"The index in pandas is only used for labeling the rows\",\n",
      "        \"The index in pandas is used for data alignment and ensuring proper alignment of data\",\n",
      "        \"The index in pandas is used for aggregating data\"\n",
      "      ],\n",
      "      \"solution\": 1\n",
      "    },\n",
      "    {\n",
      "      \"question_text\": \"What happens when the reset_index method is called without any arguments?\",\n",
      "      \"difficulty\": 2,\n",
      "      \"topics\": [\n",
      "        \"DataFrame.set_index\",\n",
      "        \"pandas\",\n",
      "        \"indexing\"\n",
      "      ],\n",
      "      \"choices\": [\n",
      "        \"The index is reset to go from zero to the total number of rows in the data frame\",\n",
      "        \"The columns that were previously used for the index are returned back to be columns alongside the existing ones\",\n",
      "        \"The data alignment is broken and the index is reset to a default range index\"\n",
      "      ],\n",
      "      \"solution\": 0\n",
      "    },\n",
      "    {\n",
      "      \"question_text\": \"How can the set_index method be used to change the index of a DataFrame?\",\n",
      "      \"difficulty\": 2,\n",
      "      \"topics\": [\n",
      "        \"DataFrame.set_index\",\n",
      "        \"pandas\",\n",
      "        \"indexing\"\n",
      "      ],\n",
      "      \"choices\": [\n",
      "        \"The set_index method is used to reset the index to a default range index\",\n",
      "        \"The set_index method is used to align entries based on certain properties or columns of the data\",\n",
      "        \"The set_index method is used to aggregate data\"\n",
      "      ],\n",
      "      \"solution\": 1\n",
      "    },\n",
      "    {\n",
      "      \"question_text\": \"What is the main goal of setting and resetting the index in pandas?\",\n",
      "      \"difficulty\": 2,\n",
      "      \"topics\": [\n",
      "        \"DataFrame.set_index\",\n",
      "        \"pandas\",\n",
      "        \"indexing\"\n",
      "      ],\n",
      "      \"choices\": [\n",
      "        \"The main goal is to aggregate data for analysis\",\n",
      "        \"The main goal is to ensure proper alignment of data and make data operations easier\",\n",
      "        \"The main goal is to label the rows in the data frame\"\n",
      "      ],\n",
      "      \"solution\": 1\n",
      "    }\n",
      "  ]\n",
      "}\n"
     ]
    }
   ],
   "source": [
    "print(res[\"output\"])"
   ]
  },
  {
   "cell_type": "markdown",
   "id": "73b4f70a-1d2d-469b-8a05-2813b132e994",
   "metadata": {},
   "source": [
    "Ok not quite the format we wanted... Let's see what happened in intermediate steps"
   ]
  },
  {
   "cell_type": "code",
   "execution_count": 21,
   "id": "a95b38c2-b5b5-475c-af81-36a25c7a9182",
   "metadata": {},
   "outputs": [
    {
     "name": "stdout",
     "output_type": "stream",
     "text": [
      "\n",
      "\n",
      "\n",
      "\n",
      "AIMessage(content='', additional_kwargs={'function_call': {'name': 'python', 'arguments': '{\\n  \"question_text\": \"How would you set the \\'id\\' column as the index of a DataFrame called \\'df\\'?\",\\n  \"difficulty\": 2,\\n  \"topics\": [\"pandas\", \"DataFrame.set_index\"],\\n  \"starting_code\": \"import pandas as pd\\\\n\\\\ndf = pd.DataFrame({\\'id\\': [1, 2, 3], \\'name\\': [\\'Alice\\', \\'Bob\\', \\'Charlie\\']})\\\\n\\\\n# Set the \\'id\\' column as the index\\\\n\",\\n  \"solution\": \"df.set_index(\\'id\\', inplace=True)\",\\n  \"setup_code\": \"import pandas as pd\",\\n  \"test_code\": \"assert df.index.name == \\'id\\'\\\\nassert df.index.tolist() == [1, 2, 3]\"\\n}'}})\n",
      "\n",
      "\n",
      "\n",
      "\n",
      "FunctionMessage(content='python is not a valid tool, try one of [search_course_content].', name='python')\n",
      "\n",
      "\n",
      "\n",
      "\n",
      "AIMessage(content='', additional_kwargs={'function_call': {'name': 'search_course_content', 'arguments': '{\\n  \"__arg1\": \"DataFrame.set_index\"\\n}'}})\n",
      "\n",
      "\n",
      "\n",
      "\n",
      "FunctionMessage(content='[Document(page_content=\"And we\\'ll have a few words of advice for how you should choose which columns or which variables go on the index and we\\'ll finish with some exercises. We\\'ll start by importing pandas as pd and numpy as np like we normally do so that we\\'re prepared to use those libraries going forward. So let\\'s take a step back and try to understand what the index is as we\\'ve told you before and as we\\'ve become a little familiar with every series and data frame has an index. And we have been referring to those as the row labels for the data we didn\\'t lie this is still true, but the index in pandas is a lot more powerful and meaningful and just labeling the rows. And the purpose of our lecture today will be to help us understand these other properties and behaviors of the index for a series or data frame. So the pandas documentation reads that data alignment is intrinsic the link between labels and data will not be broken on this dense so explicitly by you. And so in the other words this means that the index and the column names are going to be used to make sure that the data is always properly aligned whenever you\\'re operating on multiple data frames.\", metadata={\\'source\\': \\'videos/transcripts_tiny/2.2.1 the pandas index.srt\\', \\'chunk_number\\': 1, \\'timestamps\\': \\'00:01:12 --> 00:02:37\\'}), Document(page_content=\"Forgot a comma right here and here we go we get all five variables and we only have these three years but we have them for all four countries. And there\\'s a nice symmetry between how we can use these indexing rules for a multi-level column or multi-level row data frame. So we\\'ve talked about how to set the index but one of the other key operations when we\\'re dealing with the index is to reset it. And when we call the reset index method when we and we don\\'t pass any arguments the following happens we will see that the columns that were previously used for the index are returned back to be columns alongside the existing ones. And the index is going to be reset to go from zero one to all the way through the total number of rows and the data frame minus one. This is the default index also called a range index in pandas and when we call reset index again whatever we had there is move back as a column and then we get back the default range index. So there are a few variations of behavior with the reset index method and we\\'d like for you to do this exercise now to learn what these variations are from the documentation of the method.\", metadata={\\'source\\': \\'videos/transcripts_tiny/2.2.1 the pandas index.srt\\', \\'chunk_number\\': 45, \\'timestamps\\': \\'00:58:14 --> 00:59:47\\'}), Document(page_content=\"And the next natural step would be okay well what if we need to align based on certain properties or columns of the data. For example, maybe we would want to be able to align our entries based on the year. If we wanted to set the year is the index we would call the set index method on our data frame and we can pass it year either as a string or as the only item in a list. And now is that pandas has gotten rid of the 01234 labels on the left. And now the row labels are actually coming from the year column. We can also notice that the printed output looks slightly different than it used to. Before the year column was right up a little bit higher next to all these other column labels. Now it\\'s down and a little bit to the left and it may be a little subtle to see on my computer, but if you\\'re able to zoom in on yours, you\\'ll see that the year column now has both numbers indicating that these are labels. All the cell values in between are all in normal font face whereas the column labels and the row labels are all given a bold font.\", metadata={\\'source\\': \\'videos/transcripts_tiny/2.2.1 the pandas index.srt\\', \\'chunk_number\\': 11, \\'timestamps\\': \\'00:13:27 --> 00:14:48\\'}), Document(page_content=\"Hello, this is Spencer Lyon and today we\\'re going to be continuing to learn more about data analysis in Python using the Pandas library. And today we\\'re going to focus on understanding the index. Our goals for today will be to understand how we can use the index to make sure that observations and data points are aligned when we do certain operations. We\\'ll learn how we can set the index to something different as well as reset it to get back where we started. We\\'ll take a closer look at how we can select subsets of the data by slicing and extracting values according to the index or row labels as well as the column labels. And finally we\\'ll point out that for a data frame the column names are also used to align data and this will become very clear shortly. Our outline for today will be to do a high level overview of what the index is and talk about how we can set reset the index will have some examples throughout. And we\\'ll have a few words of advice for how you should choose which columns or which variables go on the index and we\\'ll finish with some exercises.\", metadata={\\'source\\': \\'videos/transcripts_tiny/2.2.1 the pandas index.srt\\', \\'chunk_number\\': 0, \\'timestamps\\': \\'00:00:00 --> 00:01:23\\'})]', name='search_course_content')\n",
      "\n",
      "\n",
      "\n",
      "\n",
      "AIMessage(content=\"Here is a practice question for you:\\n\\n**Question Text:** How would you set the 'id' column as the index of a DataFrame called 'df'?\\n\\n**Difficulty:** 2\\n\\n**Topics:** pandas, DataFrame.set_index\\n\\n**Starting Code:**\\n```python\\nimport pandas as pd\\n\\ndf = pd.DataFrame({'id': [1, 2, 3], 'name': ['Alice', 'Bob', 'Charlie']})\\n\\n# Set the 'id' column as the index\\n\\n```\\n\\n**Solution:**\\n```python\\ndf.set_index('id', inplace=True)\\n```\\n\\n**Setup Code:**\\n```python\\nimport pandas as pd\\n```\\n\\n**Test Code:**\\n```python\\nassert df.index.name == 'id'\\nassert df.index.tolist() == [1, 2, 3]\\n```\\n\\nIn this question, you are given a DataFrame called 'df' with columns 'id' and 'name'. Your task is to set the 'id' column as the index of the DataFrame.\\n\\nTo solve this, you can use the `set_index()` method of the DataFrame and pass 'id' as the argument. Set the `inplace` parameter to `True` to modify the DataFrame in place.\\n\\nMake sure to import the pandas library before attempting to solve the question.\\n\\nAfter setting the index, the test code will verify that the index name is 'id' and the index values are [1, 2, 3].\\n\\nGood luck with the question!\")\n"
     ]
    }
   ],
   "source": [
    "for x in res[\"chat_history\"]:\n",
    "    print(\"\\n\\n\\n\")\n",
    "    print(repr(x))"
   ]
  },
  {
   "cell_type": "markdown",
   "id": "01dfdf00-9188-494e-8128-f7cc87761ce6",
   "metadata": {},
   "source": [
    "Looks like the AI did return an appropriate question first\n",
    "\n",
    "But then it tried to call an agent tool called `python` on it\n",
    "\n",
    "Then langchain told the AI the only tool it could use is `search_course_content`.\n",
    "\n",
    "It did use `search_course_content` to do a retreival\n",
    "\n",
    "Then it generated a question in the wrong format.\n",
    "\n",
    "We can access the original correctly formatted question as follows"
   ]
  },
  {
   "cell_type": "code",
   "execution_count": 22,
   "id": "cf4abf0c-97ef-4258-81d6-863333bdc608",
   "metadata": {},
   "outputs": [
    {
     "data": {
      "text/plain": [
       "{'question_text': \"How would you set the 'id' column as the index of a DataFrame called 'df'?\",\n",
       " 'difficulty': 2,\n",
       " 'topics': ['pandas', 'DataFrame.set_index'],\n",
       " 'starting_code': \"import pandas as pd\\n\\ndf = pd.DataFrame({'id': [1, 2, 3], 'name': ['Alice', 'Bob', 'Charlie']})\\n\\n# Set the 'id' column as the index\\n\",\n",
       " 'solution': \"df.set_index('id', inplace=True)\",\n",
       " 'setup_code': 'import pandas as pd',\n",
       " 'test_code': \"assert df.index.name == 'id'\\nassert df.index.tolist() == [1, 2, 3]\"}"
      ]
     },
     "execution_count": 22,
     "metadata": {},
     "output_type": "execute_result"
    }
   ],
   "source": [
    "res[\"intermediate_steps\"][0][0].tool_input"
   ]
  },
  {
   "cell_type": "markdown",
   "id": "44c1b536-43ae-495a-95b9-0d6aaa87b332",
   "metadata": {},
   "source": [
    "This is a dict (already parsed JSON)\n",
    "\n",
    "We can load it up as a `Code` (question type) Pydantic object as follows"
   ]
  },
  {
   "cell_type": "code",
   "execution_count": 26,
   "id": "920a349c-9b17-432b-aaf9-271014db22bf",
   "metadata": {},
   "outputs": [
    {
     "data": {
      "text/markdown": [
       "How would you set the 'id' column as the index of a DataFrame called 'df'?\n",
       "\n",
       "```python\n",
       "import pandas as pd\n",
       "\n",
       "df = pd.DataFrame({'id': [1, 2, 3], 'name': ['Alice', 'Bob', 'Charlie']})\n",
       "\n",
       "# Set the 'id' column as the index\n",
       "\n",
       "```\n",
       "\n",
       "**Solution**\n",
       "\n",
       "```python\n",
       "df.set_index('id', inplace=True)\n",
       "```\n",
       "\n",
       "**Test Suite**\n",
       "\n",
       "```python\n",
       "import pandas as pd\n",
       "\n",
       "df.set_index('id', inplace=True)\n",
       "\n",
       "assert df.index.name == 'id'\n",
       "assert df.index.tolist() == [1, 2, 3]\n",
       "```"
      ],
      "text/plain": [
       "How would you set the 'id' column as the index of a DataFrame called 'df'?\n",
       "\n",
       "```python\n",
       "import pandas as pd\n",
       "\n",
       "df = pd.DataFrame({'id': [1, 2, 3], 'name': ['Alice', 'Bob', 'Charlie']})\n",
       "\n",
       "# Set the 'id' column as the index\n",
       "\n",
       "```\n",
       "\n",
       "**Solution**\n",
       "\n",
       "```python\n",
       "df.set_index('id', inplace=True)\n",
       "```\n",
       "\n",
       "**Test Suite**\n",
       "\n",
       "```python\n",
       "import pandas as pd\n",
       "\n",
       "df.set_index('id', inplace=True)\n",
       "\n",
       "assert df.index.name == 'id'\n",
       "assert df.index.tolist() == [1, 2, 3]\n",
       "```"
      ]
     },
     "execution_count": 26,
     "metadata": {},
     "output_type": "execute_result"
    }
   ],
   "source": [
    "Code(**res[\"intermediate_steps\"][0][0].tool_input)"
   ]
  },
  {
   "cell_type": "code",
   "execution_count": null,
   "id": "f15c815f-7e2e-466f-a9ad-c1a8d462d35b",
   "metadata": {},
   "outputs": [],
   "source": []
  }
 ],
 "metadata": {
  "kernelspec": {
   "display_name": "Python (jupyteach)",
   "language": "python",
   "name": "jupyteach"
  },
  "language_info": {
   "codemirror_mode": {
    "name": "ipython",
    "version": 3
   },
   "file_extension": ".py",
   "mimetype": "text/x-python",
   "name": "python",
   "nbconvert_exporter": "python",
   "pygments_lexer": "ipython3",
   "version": "3.11.5"
  }
 },
 "nbformat": 4,
 "nbformat_minor": 5
}
